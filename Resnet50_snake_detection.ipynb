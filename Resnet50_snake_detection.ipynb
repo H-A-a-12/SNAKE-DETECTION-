{
  "nbformat": 4,
  "nbformat_minor": 0,
  "metadata": {
    "colab": {
      "name": "Copy of Resnet50_snake_detection.ipynb",
      "provenance": []
    },
    "kernelspec": {
      "name": "python3",
      "display_name": "Python 3"
    },
    "accelerator": "GPU"
  },
  "cells": [
    {
      "cell_type": "code",
      "metadata": {
        "id": "eyTuIDsBacI1"
      },
      "source": [
        "import numpy as np\r\n",
        "import os\r\n",
        "import matplotlib.pyplot as plt \r\n",
        "import seaborn as sns\r\n",
        "from keras.optimizers import Adam\r\n",
        "import cv2\r\n",
        "from keras.models import Sequential\r\n",
        "from keras.layers import Dense, Flatten, Dropout ,Conv2D\r\n",
        "from keras.models import Model\r\n",
        "from keras.preprocessing.image import ImageDataGenerator\r\n",
        "from keras.layers.normalization import BatchNormalization\r\n",
        "from keras import optimizers\r\n",
        "from keras.utils import to_categorical\r\n",
        "import pandas as pd\r\n",
        "from keras.applications import VGG19,ResNet50\r\n",
        "from keras.layers import Activation,BatchNormalization\r\n",
        "from keras.layers import MaxPooling2D"
      ],
      "execution_count": 109,
      "outputs": []
    },
    {
      "cell_type": "code",
      "metadata": {
        "id": "c4UJtGiHbJ2K"
      },
      "source": [
        "train=pd.read_csv(\"/content/drive/MyDrive/Snake detection/Snake Detection/dataset/train.csv\")\r\n",
        "test=pd.read_csv(\"/content/drive/MyDrive/Snake detection/Snake Detection/dataset/test.csv\")\r\n"
      ],
      "execution_count": 110,
      "outputs": []
    },
    {
      "cell_type": "code",
      "metadata": {
        "id": "TDZ7-Lrqj4oN",
        "outputId": "02577fb9-53bd-408f-e797-11a9ba1c5946",
        "colab": {
          "base_uri": "https://localhost:8080/",
          "height": 424
        }
      },
      "source": [
        "test"
      ],
      "execution_count": 111,
      "outputs": [
        {
          "output_type": "execute_result",
          "data": {
            "text/html": [
              "<div>\n",
              "<style scoped>\n",
              "    .dataframe tbody tr th:only-of-type {\n",
              "        vertical-align: middle;\n",
              "    }\n",
              "\n",
              "    .dataframe tbody tr th {\n",
              "        vertical-align: top;\n",
              "    }\n",
              "\n",
              "    .dataframe thead th {\n",
              "        text-align: right;\n",
              "    }\n",
              "</style>\n",
              "<table border=\"1\" class=\"dataframe\">\n",
              "  <thead>\n",
              "    <tr style=\"text-align: right;\">\n",
              "      <th></th>\n",
              "      <th>image_id</th>\n",
              "    </tr>\n",
              "  </thead>\n",
              "  <tbody>\n",
              "    <tr>\n",
              "      <th>0</th>\n",
              "      <td>7ede553357</td>\n",
              "    </tr>\n",
              "    <tr>\n",
              "      <th>1</th>\n",
              "      <td>3500b219e4</td>\n",
              "    </tr>\n",
              "    <tr>\n",
              "      <th>2</th>\n",
              "      <td>d43a78d6d9</td>\n",
              "    </tr>\n",
              "    <tr>\n",
              "      <th>3</th>\n",
              "      <td>1f36f26994</td>\n",
              "    </tr>\n",
              "    <tr>\n",
              "      <th>4</th>\n",
              "      <td>8cb85fc58e</td>\n",
              "    </tr>\n",
              "    <tr>\n",
              "      <th>...</th>\n",
              "      <td>...</td>\n",
              "    </tr>\n",
              "    <tr>\n",
              "      <th>2356</th>\n",
              "      <td>93e591cb23</td>\n",
              "    </tr>\n",
              "    <tr>\n",
              "      <th>2357</th>\n",
              "      <td>68a603b39d</td>\n",
              "    </tr>\n",
              "    <tr>\n",
              "      <th>2358</th>\n",
              "      <td>4f472510f3</td>\n",
              "    </tr>\n",
              "    <tr>\n",
              "      <th>2359</th>\n",
              "      <td>d6884444ae</td>\n",
              "    </tr>\n",
              "    <tr>\n",
              "      <th>2360</th>\n",
              "      <td>c0fa7df5de</td>\n",
              "    </tr>\n",
              "  </tbody>\n",
              "</table>\n",
              "<p>2361 rows × 1 columns</p>\n",
              "</div>"
            ],
            "text/plain": [
              "        image_id\n",
              "0     7ede553357\n",
              "1     3500b219e4\n",
              "2     d43a78d6d9\n",
              "3     1f36f26994\n",
              "4     8cb85fc58e\n",
              "...          ...\n",
              "2356  93e591cb23\n",
              "2357  68a603b39d\n",
              "2358  4f472510f3\n",
              "2359  d6884444ae\n",
              "2360  c0fa7df5de\n",
              "\n",
              "[2361 rows x 1 columns]"
            ]
          },
          "metadata": {
            "tags": []
          },
          "execution_count": 111
        }
      ]
    },
    {
      "cell_type": "code",
      "metadata": {
        "id": "kZAtfGBYewOW"
      },
      "source": [
        "#img_width,img_heigth=32,32\r\n",
        "train_data_dir='/content/drive/MyDrive/Snake detection/Snake Detection/dataset/train'\r\n",
        "validation_data_dir='/content/drive/MyDrive/Snake detection/Snake Detection/dataset/test'\r\n",
        "\r\n"
      ],
      "execution_count": 112,
      "outputs": []
    },
    {
      "cell_type": "code",
      "metadata": {
        "id": "L_58O-8be4Re"
      },
      "source": [
        "def append_ext(fn):\r\n",
        "    return fn+\".jpg\"\r\n",
        "\r\n",
        "train['image_id']=train['image_id'].apply(append_ext)"
      ],
      "execution_count": 113,
      "outputs": []
    },
    {
      "cell_type": "code",
      "metadata": {
        "id": "2z9aXFVhe7GZ"
      },
      "source": [
        "train_datagen=ImageDataGenerator(rescale=1./255,shear_range=0.2,zoom_range=0.2,horizontal_flip=True,validation_split=0.2)\r\n",
        "test_datagen=ImageDataGenerator(rescale=1./255,validation_split=0.2)"
      ],
      "execution_count": 114,
      "outputs": []
    },
    {
      "cell_type": "code",
      "metadata": {
        "colab": {
          "base_uri": "https://localhost:8080/"
        },
        "id": "HbbMrLhne7M-",
        "outputId": "b0711096-0a3a-4f33-b2c3-b444c41705eb"
      },
      "source": [
        "train_generator=train_datagen.flow_from_dataframe(\r\n",
        "dataframe=train,\r\n",
        "directory=\"/content/drive/MyDrive/Snake detection/Snake Detection/dataset/train\",\r\n",
        "x_col=\"image_id\",\r\n",
        "y_col=\"breed\",\r\n",
        "batch_size=32,\r\n",
        "seed=42,\r\n",
        "shuffle=True,\r\n",
        "class_mode=\"categorical\",\r\n",
        "subset=\"training\",\r\n",
        "target_size=(224,224))\r\n",
        "\r\n",
        "\r\n",
        "validation_generator=train_datagen.flow_from_dataframe(\r\n",
        "dataframe=train,\r\n",
        "directory=\"/content/drive/MyDrive/Snake detection/Snake Detection/dataset/train\",\r\n",
        "x_col=\"image_id\",\r\n",
        "y_col=\"breed\",\r\n",
        "batch_size=32,\r\n",
        "seed=42,\r\n",
        "shuffle=True,\r\n",
        "class_mode=\"categorical\",\r\n",
        "subset=\"validation\",\r\n",
        "target_size=(224,224))"
      ],
      "execution_count": 115,
      "outputs": [
        {
          "output_type": "stream",
          "text": [
            "/usr/local/lib/python3.6/dist-packages/keras_preprocessing/image/dataframe_iterator.py:282: UserWarning: Found 326 invalid image filename(s) in x_col=\"image_id\". These filename(s) will be ignored.\n",
            "  .format(n_invalid, x_col)\n"
          ],
          "name": "stderr"
        },
        {
          "output_type": "stream",
          "text": [
            "Found 4146 validated image filenames belonging to 35 classes.\n",
            "Found 1036 validated image filenames belonging to 35 classes.\n"
          ],
          "name": "stdout"
        },
        {
          "output_type": "stream",
          "text": [
            "/usr/local/lib/python3.6/dist-packages/keras_preprocessing/image/dataframe_iterator.py:282: UserWarning: Found 326 invalid image filename(s) in x_col=\"image_id\". These filename(s) will be ignored.\n",
            "  .format(n_invalid, x_col)\n"
          ],
          "name": "stderr"
        }
      ]
    },
    {
      "cell_type": "code",
      "metadata": {
        "id": "hU2WHgcGgGoR"
      },
      "source": [
        "IMG_SIZE=224"
      ],
      "execution_count": 116,
      "outputs": []
    },
    {
      "cell_type": "code",
      "metadata": {
        "id": "Zpfvo8v4fGIx"
      },
      "source": [
        "#base_model =  VGG19(weights='imagenet', include_top=False, input_shape=(IMG_SIZE, IMG_SIZE, 3))\r\n",
        "\r\n",
        "base_model =  ResNet50(weights='imagenet', include_top=False, input_shape=(IMG_SIZE, IMG_SIZE, 3))"
      ],
      "execution_count": 117,
      "outputs": []
    },
    {
      "cell_type": "code",
      "metadata": {
        "id": "--Xc4i7xfjwl",
        "colab": {
          "base_uri": "https://localhost:8080/"
        },
        "outputId": "eb8d500e-8ee5-41cd-e893-c13e0d567934"
      },
      "source": [
        "model = Sequential()\r\n",
        "model.add(Flatten(input_shape=base_model.output_shape[1:]))\r\n",
        "model.add(Dense(256))\r\n",
        "model.add(Activation('relu'))\r\n",
        "model.add(Dense(128))\r\n",
        "model.add(Activation('relu'))\r\n",
        "model.add(Dropout(0.5))\r\n",
        "model.add(Dense(35))\r\n",
        "model.add(Activation('softmax'))\r\n",
        "\r\n",
        "\r\n",
        "\r\n",
        "model = Model(inputs=base_model.input, outputs=model(base_model.output))\r\n",
        "\r\n",
        "#model.compile(loss='categorical_crossentropy', optimizer=optimizers.SGD(lr=1e-4, momentum=0.9),\r\n",
        " #             metrics=['accuracy'])\r\n",
        "model.compile(loss='binary_crossentropy',\r\n",
        "             optimizer='rmsprop'\r\n",
        "            ,metrics=['accuracy'])\r\n",
        "\r\n",
        "model.summary()\r\n"
      ],
      "execution_count": 118,
      "outputs": [
        {
          "output_type": "stream",
          "text": [
            "Model: \"functional_7\"\n",
            "__________________________________________________________________________________________________\n",
            "Layer (type)                    Output Shape         Param #     Connected to                     \n",
            "==================================================================================================\n",
            "input_2 (InputLayer)            [(None, 224, 224, 3) 0                                            \n",
            "__________________________________________________________________________________________________\n",
            "conv1_pad (ZeroPadding2D)       (None, 230, 230, 3)  0           input_2[0][0]                    \n",
            "__________________________________________________________________________________________________\n",
            "conv1_conv (Conv2D)             (None, 112, 112, 64) 9472        conv1_pad[0][0]                  \n",
            "__________________________________________________________________________________________________\n",
            "conv1_bn (BatchNormalization)   (None, 112, 112, 64) 256         conv1_conv[0][0]                 \n",
            "__________________________________________________________________________________________________\n",
            "conv1_relu (Activation)         (None, 112, 112, 64) 0           conv1_bn[0][0]                   \n",
            "__________________________________________________________________________________________________\n",
            "pool1_pad (ZeroPadding2D)       (None, 114, 114, 64) 0           conv1_relu[0][0]                 \n",
            "__________________________________________________________________________________________________\n",
            "pool1_pool (MaxPooling2D)       (None, 56, 56, 64)   0           pool1_pad[0][0]                  \n",
            "__________________________________________________________________________________________________\n",
            "conv2_block1_1_conv (Conv2D)    (None, 56, 56, 64)   4160        pool1_pool[0][0]                 \n",
            "__________________________________________________________________________________________________\n",
            "conv2_block1_1_bn (BatchNormali (None, 56, 56, 64)   256         conv2_block1_1_conv[0][0]        \n",
            "__________________________________________________________________________________________________\n",
            "conv2_block1_1_relu (Activation (None, 56, 56, 64)   0           conv2_block1_1_bn[0][0]          \n",
            "__________________________________________________________________________________________________\n",
            "conv2_block1_2_conv (Conv2D)    (None, 56, 56, 64)   36928       conv2_block1_1_relu[0][0]        \n",
            "__________________________________________________________________________________________________\n",
            "conv2_block1_2_bn (BatchNormali (None, 56, 56, 64)   256         conv2_block1_2_conv[0][0]        \n",
            "__________________________________________________________________________________________________\n",
            "conv2_block1_2_relu (Activation (None, 56, 56, 64)   0           conv2_block1_2_bn[0][0]          \n",
            "__________________________________________________________________________________________________\n",
            "conv2_block1_0_conv (Conv2D)    (None, 56, 56, 256)  16640       pool1_pool[0][0]                 \n",
            "__________________________________________________________________________________________________\n",
            "conv2_block1_3_conv (Conv2D)    (None, 56, 56, 256)  16640       conv2_block1_2_relu[0][0]        \n",
            "__________________________________________________________________________________________________\n",
            "conv2_block1_0_bn (BatchNormali (None, 56, 56, 256)  1024        conv2_block1_0_conv[0][0]        \n",
            "__________________________________________________________________________________________________\n",
            "conv2_block1_3_bn (BatchNormali (None, 56, 56, 256)  1024        conv2_block1_3_conv[0][0]        \n",
            "__________________________________________________________________________________________________\n",
            "conv2_block1_add (Add)          (None, 56, 56, 256)  0           conv2_block1_0_bn[0][0]          \n",
            "                                                                 conv2_block1_3_bn[0][0]          \n",
            "__________________________________________________________________________________________________\n",
            "conv2_block1_out (Activation)   (None, 56, 56, 256)  0           conv2_block1_add[0][0]           \n",
            "__________________________________________________________________________________________________\n",
            "conv2_block2_1_conv (Conv2D)    (None, 56, 56, 64)   16448       conv2_block1_out[0][0]           \n",
            "__________________________________________________________________________________________________\n",
            "conv2_block2_1_bn (BatchNormali (None, 56, 56, 64)   256         conv2_block2_1_conv[0][0]        \n",
            "__________________________________________________________________________________________________\n",
            "conv2_block2_1_relu (Activation (None, 56, 56, 64)   0           conv2_block2_1_bn[0][0]          \n",
            "__________________________________________________________________________________________________\n",
            "conv2_block2_2_conv (Conv2D)    (None, 56, 56, 64)   36928       conv2_block2_1_relu[0][0]        \n",
            "__________________________________________________________________________________________________\n",
            "conv2_block2_2_bn (BatchNormali (None, 56, 56, 64)   256         conv2_block2_2_conv[0][0]        \n",
            "__________________________________________________________________________________________________\n",
            "conv2_block2_2_relu (Activation (None, 56, 56, 64)   0           conv2_block2_2_bn[0][0]          \n",
            "__________________________________________________________________________________________________\n",
            "conv2_block2_3_conv (Conv2D)    (None, 56, 56, 256)  16640       conv2_block2_2_relu[0][0]        \n",
            "__________________________________________________________________________________________________\n",
            "conv2_block2_3_bn (BatchNormali (None, 56, 56, 256)  1024        conv2_block2_3_conv[0][0]        \n",
            "__________________________________________________________________________________________________\n",
            "conv2_block2_add (Add)          (None, 56, 56, 256)  0           conv2_block1_out[0][0]           \n",
            "                                                                 conv2_block2_3_bn[0][0]          \n",
            "__________________________________________________________________________________________________\n",
            "conv2_block2_out (Activation)   (None, 56, 56, 256)  0           conv2_block2_add[0][0]           \n",
            "__________________________________________________________________________________________________\n",
            "conv2_block3_1_conv (Conv2D)    (None, 56, 56, 64)   16448       conv2_block2_out[0][0]           \n",
            "__________________________________________________________________________________________________\n",
            "conv2_block3_1_bn (BatchNormali (None, 56, 56, 64)   256         conv2_block3_1_conv[0][0]        \n",
            "__________________________________________________________________________________________________\n",
            "conv2_block3_1_relu (Activation (None, 56, 56, 64)   0           conv2_block3_1_bn[0][0]          \n",
            "__________________________________________________________________________________________________\n",
            "conv2_block3_2_conv (Conv2D)    (None, 56, 56, 64)   36928       conv2_block3_1_relu[0][0]        \n",
            "__________________________________________________________________________________________________\n",
            "conv2_block3_2_bn (BatchNormali (None, 56, 56, 64)   256         conv2_block3_2_conv[0][0]        \n",
            "__________________________________________________________________________________________________\n",
            "conv2_block3_2_relu (Activation (None, 56, 56, 64)   0           conv2_block3_2_bn[0][0]          \n",
            "__________________________________________________________________________________________________\n",
            "conv2_block3_3_conv (Conv2D)    (None, 56, 56, 256)  16640       conv2_block3_2_relu[0][0]        \n",
            "__________________________________________________________________________________________________\n",
            "conv2_block3_3_bn (BatchNormali (None, 56, 56, 256)  1024        conv2_block3_3_conv[0][0]        \n",
            "__________________________________________________________________________________________________\n",
            "conv2_block3_add (Add)          (None, 56, 56, 256)  0           conv2_block2_out[0][0]           \n",
            "                                                                 conv2_block3_3_bn[0][0]          \n",
            "__________________________________________________________________________________________________\n",
            "conv2_block3_out (Activation)   (None, 56, 56, 256)  0           conv2_block3_add[0][0]           \n",
            "__________________________________________________________________________________________________\n",
            "conv3_block1_1_conv (Conv2D)    (None, 28, 28, 128)  32896       conv2_block3_out[0][0]           \n",
            "__________________________________________________________________________________________________\n",
            "conv3_block1_1_bn (BatchNormali (None, 28, 28, 128)  512         conv3_block1_1_conv[0][0]        \n",
            "__________________________________________________________________________________________________\n",
            "conv3_block1_1_relu (Activation (None, 28, 28, 128)  0           conv3_block1_1_bn[0][0]          \n",
            "__________________________________________________________________________________________________\n",
            "conv3_block1_2_conv (Conv2D)    (None, 28, 28, 128)  147584      conv3_block1_1_relu[0][0]        \n",
            "__________________________________________________________________________________________________\n",
            "conv3_block1_2_bn (BatchNormali (None, 28, 28, 128)  512         conv3_block1_2_conv[0][0]        \n",
            "__________________________________________________________________________________________________\n",
            "conv3_block1_2_relu (Activation (None, 28, 28, 128)  0           conv3_block1_2_bn[0][0]          \n",
            "__________________________________________________________________________________________________\n",
            "conv3_block1_0_conv (Conv2D)    (None, 28, 28, 512)  131584      conv2_block3_out[0][0]           \n",
            "__________________________________________________________________________________________________\n",
            "conv3_block1_3_conv (Conv2D)    (None, 28, 28, 512)  66048       conv3_block1_2_relu[0][0]        \n",
            "__________________________________________________________________________________________________\n",
            "conv3_block1_0_bn (BatchNormali (None, 28, 28, 512)  2048        conv3_block1_0_conv[0][0]        \n",
            "__________________________________________________________________________________________________\n",
            "conv3_block1_3_bn (BatchNormali (None, 28, 28, 512)  2048        conv3_block1_3_conv[0][0]        \n",
            "__________________________________________________________________________________________________\n",
            "conv3_block1_add (Add)          (None, 28, 28, 512)  0           conv3_block1_0_bn[0][0]          \n",
            "                                                                 conv3_block1_3_bn[0][0]          \n",
            "__________________________________________________________________________________________________\n",
            "conv3_block1_out (Activation)   (None, 28, 28, 512)  0           conv3_block1_add[0][0]           \n",
            "__________________________________________________________________________________________________\n",
            "conv3_block2_1_conv (Conv2D)    (None, 28, 28, 128)  65664       conv3_block1_out[0][0]           \n",
            "__________________________________________________________________________________________________\n",
            "conv3_block2_1_bn (BatchNormali (None, 28, 28, 128)  512         conv3_block2_1_conv[0][0]        \n",
            "__________________________________________________________________________________________________\n",
            "conv3_block2_1_relu (Activation (None, 28, 28, 128)  0           conv3_block2_1_bn[0][0]          \n",
            "__________________________________________________________________________________________________\n",
            "conv3_block2_2_conv (Conv2D)    (None, 28, 28, 128)  147584      conv3_block2_1_relu[0][0]        \n",
            "__________________________________________________________________________________________________\n",
            "conv3_block2_2_bn (BatchNormali (None, 28, 28, 128)  512         conv3_block2_2_conv[0][0]        \n",
            "__________________________________________________________________________________________________\n",
            "conv3_block2_2_relu (Activation (None, 28, 28, 128)  0           conv3_block2_2_bn[0][0]          \n",
            "__________________________________________________________________________________________________\n",
            "conv3_block2_3_conv (Conv2D)    (None, 28, 28, 512)  66048       conv3_block2_2_relu[0][0]        \n",
            "__________________________________________________________________________________________________\n",
            "conv3_block2_3_bn (BatchNormali (None, 28, 28, 512)  2048        conv3_block2_3_conv[0][0]        \n",
            "__________________________________________________________________________________________________\n",
            "conv3_block2_add (Add)          (None, 28, 28, 512)  0           conv3_block1_out[0][0]           \n",
            "                                                                 conv3_block2_3_bn[0][0]          \n",
            "__________________________________________________________________________________________________\n",
            "conv3_block2_out (Activation)   (None, 28, 28, 512)  0           conv3_block2_add[0][0]           \n",
            "__________________________________________________________________________________________________\n",
            "conv3_block3_1_conv (Conv2D)    (None, 28, 28, 128)  65664       conv3_block2_out[0][0]           \n",
            "__________________________________________________________________________________________________\n",
            "conv3_block3_1_bn (BatchNormali (None, 28, 28, 128)  512         conv3_block3_1_conv[0][0]        \n",
            "__________________________________________________________________________________________________\n",
            "conv3_block3_1_relu (Activation (None, 28, 28, 128)  0           conv3_block3_1_bn[0][0]          \n",
            "__________________________________________________________________________________________________\n",
            "conv3_block3_2_conv (Conv2D)    (None, 28, 28, 128)  147584      conv3_block3_1_relu[0][0]        \n",
            "__________________________________________________________________________________________________\n",
            "conv3_block3_2_bn (BatchNormali (None, 28, 28, 128)  512         conv3_block3_2_conv[0][0]        \n",
            "__________________________________________________________________________________________________\n",
            "conv3_block3_2_relu (Activation (None, 28, 28, 128)  0           conv3_block3_2_bn[0][0]          \n",
            "__________________________________________________________________________________________________\n",
            "conv3_block3_3_conv (Conv2D)    (None, 28, 28, 512)  66048       conv3_block3_2_relu[0][0]        \n",
            "__________________________________________________________________________________________________\n",
            "conv3_block3_3_bn (BatchNormali (None, 28, 28, 512)  2048        conv3_block3_3_conv[0][0]        \n",
            "__________________________________________________________________________________________________\n",
            "conv3_block3_add (Add)          (None, 28, 28, 512)  0           conv3_block2_out[0][0]           \n",
            "                                                                 conv3_block3_3_bn[0][0]          \n",
            "__________________________________________________________________________________________________\n",
            "conv3_block3_out (Activation)   (None, 28, 28, 512)  0           conv3_block3_add[0][0]           \n",
            "__________________________________________________________________________________________________\n",
            "conv3_block4_1_conv (Conv2D)    (None, 28, 28, 128)  65664       conv3_block3_out[0][0]           \n",
            "__________________________________________________________________________________________________\n",
            "conv3_block4_1_bn (BatchNormali (None, 28, 28, 128)  512         conv3_block4_1_conv[0][0]        \n",
            "__________________________________________________________________________________________________\n",
            "conv3_block4_1_relu (Activation (None, 28, 28, 128)  0           conv3_block4_1_bn[0][0]          \n",
            "__________________________________________________________________________________________________\n",
            "conv3_block4_2_conv (Conv2D)    (None, 28, 28, 128)  147584      conv3_block4_1_relu[0][0]        \n",
            "__________________________________________________________________________________________________\n",
            "conv3_block4_2_bn (BatchNormali (None, 28, 28, 128)  512         conv3_block4_2_conv[0][0]        \n",
            "__________________________________________________________________________________________________\n",
            "conv3_block4_2_relu (Activation (None, 28, 28, 128)  0           conv3_block4_2_bn[0][0]          \n",
            "__________________________________________________________________________________________________\n",
            "conv3_block4_3_conv (Conv2D)    (None, 28, 28, 512)  66048       conv3_block4_2_relu[0][0]        \n",
            "__________________________________________________________________________________________________\n",
            "conv3_block4_3_bn (BatchNormali (None, 28, 28, 512)  2048        conv3_block4_3_conv[0][0]        \n",
            "__________________________________________________________________________________________________\n",
            "conv3_block4_add (Add)          (None, 28, 28, 512)  0           conv3_block3_out[0][0]           \n",
            "                                                                 conv3_block4_3_bn[0][0]          \n",
            "__________________________________________________________________________________________________\n",
            "conv3_block4_out (Activation)   (None, 28, 28, 512)  0           conv3_block4_add[0][0]           \n",
            "__________________________________________________________________________________________________\n",
            "conv4_block1_1_conv (Conv2D)    (None, 14, 14, 256)  131328      conv3_block4_out[0][0]           \n",
            "__________________________________________________________________________________________________\n",
            "conv4_block1_1_bn (BatchNormali (None, 14, 14, 256)  1024        conv4_block1_1_conv[0][0]        \n",
            "__________________________________________________________________________________________________\n",
            "conv4_block1_1_relu (Activation (None, 14, 14, 256)  0           conv4_block1_1_bn[0][0]          \n",
            "__________________________________________________________________________________________________\n",
            "conv4_block1_2_conv (Conv2D)    (None, 14, 14, 256)  590080      conv4_block1_1_relu[0][0]        \n",
            "__________________________________________________________________________________________________\n",
            "conv4_block1_2_bn (BatchNormali (None, 14, 14, 256)  1024        conv4_block1_2_conv[0][0]        \n",
            "__________________________________________________________________________________________________\n",
            "conv4_block1_2_relu (Activation (None, 14, 14, 256)  0           conv4_block1_2_bn[0][0]          \n",
            "__________________________________________________________________________________________________\n",
            "conv4_block1_0_conv (Conv2D)    (None, 14, 14, 1024) 525312      conv3_block4_out[0][0]           \n",
            "__________________________________________________________________________________________________\n",
            "conv4_block1_3_conv (Conv2D)    (None, 14, 14, 1024) 263168      conv4_block1_2_relu[0][0]        \n",
            "__________________________________________________________________________________________________\n",
            "conv4_block1_0_bn (BatchNormali (None, 14, 14, 1024) 4096        conv4_block1_0_conv[0][0]        \n",
            "__________________________________________________________________________________________________\n",
            "conv4_block1_3_bn (BatchNormali (None, 14, 14, 1024) 4096        conv4_block1_3_conv[0][0]        \n",
            "__________________________________________________________________________________________________\n",
            "conv4_block1_add (Add)          (None, 14, 14, 1024) 0           conv4_block1_0_bn[0][0]          \n",
            "                                                                 conv4_block1_3_bn[0][0]          \n",
            "__________________________________________________________________________________________________\n",
            "conv4_block1_out (Activation)   (None, 14, 14, 1024) 0           conv4_block1_add[0][0]           \n",
            "__________________________________________________________________________________________________\n",
            "conv4_block2_1_conv (Conv2D)    (None, 14, 14, 256)  262400      conv4_block1_out[0][0]           \n",
            "__________________________________________________________________________________________________\n",
            "conv4_block2_1_bn (BatchNormali (None, 14, 14, 256)  1024        conv4_block2_1_conv[0][0]        \n",
            "__________________________________________________________________________________________________\n",
            "conv4_block2_1_relu (Activation (None, 14, 14, 256)  0           conv4_block2_1_bn[0][0]          \n",
            "__________________________________________________________________________________________________\n",
            "conv4_block2_2_conv (Conv2D)    (None, 14, 14, 256)  590080      conv4_block2_1_relu[0][0]        \n",
            "__________________________________________________________________________________________________\n",
            "conv4_block2_2_bn (BatchNormali (None, 14, 14, 256)  1024        conv4_block2_2_conv[0][0]        \n",
            "__________________________________________________________________________________________________\n",
            "conv4_block2_2_relu (Activation (None, 14, 14, 256)  0           conv4_block2_2_bn[0][0]          \n",
            "__________________________________________________________________________________________________\n",
            "conv4_block2_3_conv (Conv2D)    (None, 14, 14, 1024) 263168      conv4_block2_2_relu[0][0]        \n",
            "__________________________________________________________________________________________________\n",
            "conv4_block2_3_bn (BatchNormali (None, 14, 14, 1024) 4096        conv4_block2_3_conv[0][0]        \n",
            "__________________________________________________________________________________________________\n",
            "conv4_block2_add (Add)          (None, 14, 14, 1024) 0           conv4_block1_out[0][0]           \n",
            "                                                                 conv4_block2_3_bn[0][0]          \n",
            "__________________________________________________________________________________________________\n",
            "conv4_block2_out (Activation)   (None, 14, 14, 1024) 0           conv4_block2_add[0][0]           \n",
            "__________________________________________________________________________________________________\n",
            "conv4_block3_1_conv (Conv2D)    (None, 14, 14, 256)  262400      conv4_block2_out[0][0]           \n",
            "__________________________________________________________________________________________________\n",
            "conv4_block3_1_bn (BatchNormali (None, 14, 14, 256)  1024        conv4_block3_1_conv[0][0]        \n",
            "__________________________________________________________________________________________________\n",
            "conv4_block3_1_relu (Activation (None, 14, 14, 256)  0           conv4_block3_1_bn[0][0]          \n",
            "__________________________________________________________________________________________________\n",
            "conv4_block3_2_conv (Conv2D)    (None, 14, 14, 256)  590080      conv4_block3_1_relu[0][0]        \n",
            "__________________________________________________________________________________________________\n",
            "conv4_block3_2_bn (BatchNormali (None, 14, 14, 256)  1024        conv4_block3_2_conv[0][0]        \n",
            "__________________________________________________________________________________________________\n",
            "conv4_block3_2_relu (Activation (None, 14, 14, 256)  0           conv4_block3_2_bn[0][0]          \n",
            "__________________________________________________________________________________________________\n",
            "conv4_block3_3_conv (Conv2D)    (None, 14, 14, 1024) 263168      conv4_block3_2_relu[0][0]        \n",
            "__________________________________________________________________________________________________\n",
            "conv4_block3_3_bn (BatchNormali (None, 14, 14, 1024) 4096        conv4_block3_3_conv[0][0]        \n",
            "__________________________________________________________________________________________________\n",
            "conv4_block3_add (Add)          (None, 14, 14, 1024) 0           conv4_block2_out[0][0]           \n",
            "                                                                 conv4_block3_3_bn[0][0]          \n",
            "__________________________________________________________________________________________________\n",
            "conv4_block3_out (Activation)   (None, 14, 14, 1024) 0           conv4_block3_add[0][0]           \n",
            "__________________________________________________________________________________________________\n",
            "conv4_block4_1_conv (Conv2D)    (None, 14, 14, 256)  262400      conv4_block3_out[0][0]           \n",
            "__________________________________________________________________________________________________\n",
            "conv4_block4_1_bn (BatchNormali (None, 14, 14, 256)  1024        conv4_block4_1_conv[0][0]        \n",
            "__________________________________________________________________________________________________\n",
            "conv4_block4_1_relu (Activation (None, 14, 14, 256)  0           conv4_block4_1_bn[0][0]          \n",
            "__________________________________________________________________________________________________\n",
            "conv4_block4_2_conv (Conv2D)    (None, 14, 14, 256)  590080      conv4_block4_1_relu[0][0]        \n",
            "__________________________________________________________________________________________________\n",
            "conv4_block4_2_bn (BatchNormali (None, 14, 14, 256)  1024        conv4_block4_2_conv[0][0]        \n",
            "__________________________________________________________________________________________________\n",
            "conv4_block4_2_relu (Activation (None, 14, 14, 256)  0           conv4_block4_2_bn[0][0]          \n",
            "__________________________________________________________________________________________________\n",
            "conv4_block4_3_conv (Conv2D)    (None, 14, 14, 1024) 263168      conv4_block4_2_relu[0][0]        \n",
            "__________________________________________________________________________________________________\n",
            "conv4_block4_3_bn (BatchNormali (None, 14, 14, 1024) 4096        conv4_block4_3_conv[0][0]        \n",
            "__________________________________________________________________________________________________\n",
            "conv4_block4_add (Add)          (None, 14, 14, 1024) 0           conv4_block3_out[0][0]           \n",
            "                                                                 conv4_block4_3_bn[0][0]          \n",
            "__________________________________________________________________________________________________\n",
            "conv4_block4_out (Activation)   (None, 14, 14, 1024) 0           conv4_block4_add[0][0]           \n",
            "__________________________________________________________________________________________________\n",
            "conv4_block5_1_conv (Conv2D)    (None, 14, 14, 256)  262400      conv4_block4_out[0][0]           \n",
            "__________________________________________________________________________________________________\n",
            "conv4_block5_1_bn (BatchNormali (None, 14, 14, 256)  1024        conv4_block5_1_conv[0][0]        \n",
            "__________________________________________________________________________________________________\n",
            "conv4_block5_1_relu (Activation (None, 14, 14, 256)  0           conv4_block5_1_bn[0][0]          \n",
            "__________________________________________________________________________________________________\n",
            "conv4_block5_2_conv (Conv2D)    (None, 14, 14, 256)  590080      conv4_block5_1_relu[0][0]        \n",
            "__________________________________________________________________________________________________\n",
            "conv4_block5_2_bn (BatchNormali (None, 14, 14, 256)  1024        conv4_block5_2_conv[0][0]        \n",
            "__________________________________________________________________________________________________\n",
            "conv4_block5_2_relu (Activation (None, 14, 14, 256)  0           conv4_block5_2_bn[0][0]          \n",
            "__________________________________________________________________________________________________\n",
            "conv4_block5_3_conv (Conv2D)    (None, 14, 14, 1024) 263168      conv4_block5_2_relu[0][0]        \n",
            "__________________________________________________________________________________________________\n",
            "conv4_block5_3_bn (BatchNormali (None, 14, 14, 1024) 4096        conv4_block5_3_conv[0][0]        \n",
            "__________________________________________________________________________________________________\n",
            "conv4_block5_add (Add)          (None, 14, 14, 1024) 0           conv4_block4_out[0][0]           \n",
            "                                                                 conv4_block5_3_bn[0][0]          \n",
            "__________________________________________________________________________________________________\n",
            "conv4_block5_out (Activation)   (None, 14, 14, 1024) 0           conv4_block5_add[0][0]           \n",
            "__________________________________________________________________________________________________\n",
            "conv4_block6_1_conv (Conv2D)    (None, 14, 14, 256)  262400      conv4_block5_out[0][0]           \n",
            "__________________________________________________________________________________________________\n",
            "conv4_block6_1_bn (BatchNormali (None, 14, 14, 256)  1024        conv4_block6_1_conv[0][0]        \n",
            "__________________________________________________________________________________________________\n",
            "conv4_block6_1_relu (Activation (None, 14, 14, 256)  0           conv4_block6_1_bn[0][0]          \n",
            "__________________________________________________________________________________________________\n",
            "conv4_block6_2_conv (Conv2D)    (None, 14, 14, 256)  590080      conv4_block6_1_relu[0][0]        \n",
            "__________________________________________________________________________________________________\n",
            "conv4_block6_2_bn (BatchNormali (None, 14, 14, 256)  1024        conv4_block6_2_conv[0][0]        \n",
            "__________________________________________________________________________________________________\n",
            "conv4_block6_2_relu (Activation (None, 14, 14, 256)  0           conv4_block6_2_bn[0][0]          \n",
            "__________________________________________________________________________________________________\n",
            "conv4_block6_3_conv (Conv2D)    (None, 14, 14, 1024) 263168      conv4_block6_2_relu[0][0]        \n",
            "__________________________________________________________________________________________________\n",
            "conv4_block6_3_bn (BatchNormali (None, 14, 14, 1024) 4096        conv4_block6_3_conv[0][0]        \n",
            "__________________________________________________________________________________________________\n",
            "conv4_block6_add (Add)          (None, 14, 14, 1024) 0           conv4_block5_out[0][0]           \n",
            "                                                                 conv4_block6_3_bn[0][0]          \n",
            "__________________________________________________________________________________________________\n",
            "conv4_block6_out (Activation)   (None, 14, 14, 1024) 0           conv4_block6_add[0][0]           \n",
            "__________________________________________________________________________________________________\n",
            "conv5_block1_1_conv (Conv2D)    (None, 7, 7, 512)    524800      conv4_block6_out[0][0]           \n",
            "__________________________________________________________________________________________________\n",
            "conv5_block1_1_bn (BatchNormali (None, 7, 7, 512)    2048        conv5_block1_1_conv[0][0]        \n",
            "__________________________________________________________________________________________________\n",
            "conv5_block1_1_relu (Activation (None, 7, 7, 512)    0           conv5_block1_1_bn[0][0]          \n",
            "__________________________________________________________________________________________________\n",
            "conv5_block1_2_conv (Conv2D)    (None, 7, 7, 512)    2359808     conv5_block1_1_relu[0][0]        \n",
            "__________________________________________________________________________________________________\n",
            "conv5_block1_2_bn (BatchNormali (None, 7, 7, 512)    2048        conv5_block1_2_conv[0][0]        \n",
            "__________________________________________________________________________________________________\n",
            "conv5_block1_2_relu (Activation (None, 7, 7, 512)    0           conv5_block1_2_bn[0][0]          \n",
            "__________________________________________________________________________________________________\n",
            "conv5_block1_0_conv (Conv2D)    (None, 7, 7, 2048)   2099200     conv4_block6_out[0][0]           \n",
            "__________________________________________________________________________________________________\n",
            "conv5_block1_3_conv (Conv2D)    (None, 7, 7, 2048)   1050624     conv5_block1_2_relu[0][0]        \n",
            "__________________________________________________________________________________________________\n",
            "conv5_block1_0_bn (BatchNormali (None, 7, 7, 2048)   8192        conv5_block1_0_conv[0][0]        \n",
            "__________________________________________________________________________________________________\n",
            "conv5_block1_3_bn (BatchNormali (None, 7, 7, 2048)   8192        conv5_block1_3_conv[0][0]        \n",
            "__________________________________________________________________________________________________\n",
            "conv5_block1_add (Add)          (None, 7, 7, 2048)   0           conv5_block1_0_bn[0][0]          \n",
            "                                                                 conv5_block1_3_bn[0][0]          \n",
            "__________________________________________________________________________________________________\n",
            "conv5_block1_out (Activation)   (None, 7, 7, 2048)   0           conv5_block1_add[0][0]           \n",
            "__________________________________________________________________________________________________\n",
            "conv5_block2_1_conv (Conv2D)    (None, 7, 7, 512)    1049088     conv5_block1_out[0][0]           \n",
            "__________________________________________________________________________________________________\n",
            "conv5_block2_1_bn (BatchNormali (None, 7, 7, 512)    2048        conv5_block2_1_conv[0][0]        \n",
            "__________________________________________________________________________________________________\n",
            "conv5_block2_1_relu (Activation (None, 7, 7, 512)    0           conv5_block2_1_bn[0][0]          \n",
            "__________________________________________________________________________________________________\n",
            "conv5_block2_2_conv (Conv2D)    (None, 7, 7, 512)    2359808     conv5_block2_1_relu[0][0]        \n",
            "__________________________________________________________________________________________________\n",
            "conv5_block2_2_bn (BatchNormali (None, 7, 7, 512)    2048        conv5_block2_2_conv[0][0]        \n",
            "__________________________________________________________________________________________________\n",
            "conv5_block2_2_relu (Activation (None, 7, 7, 512)    0           conv5_block2_2_bn[0][0]          \n",
            "__________________________________________________________________________________________________\n",
            "conv5_block2_3_conv (Conv2D)    (None, 7, 7, 2048)   1050624     conv5_block2_2_relu[0][0]        \n",
            "__________________________________________________________________________________________________\n",
            "conv5_block2_3_bn (BatchNormali (None, 7, 7, 2048)   8192        conv5_block2_3_conv[0][0]        \n",
            "__________________________________________________________________________________________________\n",
            "conv5_block2_add (Add)          (None, 7, 7, 2048)   0           conv5_block1_out[0][0]           \n",
            "                                                                 conv5_block2_3_bn[0][0]          \n",
            "__________________________________________________________________________________________________\n",
            "conv5_block2_out (Activation)   (None, 7, 7, 2048)   0           conv5_block2_add[0][0]           \n",
            "__________________________________________________________________________________________________\n",
            "conv5_block3_1_conv (Conv2D)    (None, 7, 7, 512)    1049088     conv5_block2_out[0][0]           \n",
            "__________________________________________________________________________________________________\n",
            "conv5_block3_1_bn (BatchNormali (None, 7, 7, 512)    2048        conv5_block3_1_conv[0][0]        \n",
            "__________________________________________________________________________________________________\n",
            "conv5_block3_1_relu (Activation (None, 7, 7, 512)    0           conv5_block3_1_bn[0][0]          \n",
            "__________________________________________________________________________________________________\n",
            "conv5_block3_2_conv (Conv2D)    (None, 7, 7, 512)    2359808     conv5_block3_1_relu[0][0]        \n",
            "__________________________________________________________________________________________________\n",
            "conv5_block3_2_bn (BatchNormali (None, 7, 7, 512)    2048        conv5_block3_2_conv[0][0]        \n",
            "__________________________________________________________________________________________________\n",
            "conv5_block3_2_relu (Activation (None, 7, 7, 512)    0           conv5_block3_2_bn[0][0]          \n",
            "__________________________________________________________________________________________________\n",
            "conv5_block3_3_conv (Conv2D)    (None, 7, 7, 2048)   1050624     conv5_block3_2_relu[0][0]        \n",
            "__________________________________________________________________________________________________\n",
            "conv5_block3_3_bn (BatchNormali (None, 7, 7, 2048)   8192        conv5_block3_3_conv[0][0]        \n",
            "__________________________________________________________________________________________________\n",
            "conv5_block3_add (Add)          (None, 7, 7, 2048)   0           conv5_block2_out[0][0]           \n",
            "                                                                 conv5_block3_3_bn[0][0]          \n",
            "__________________________________________________________________________________________________\n",
            "conv5_block3_out (Activation)   (None, 7, 7, 2048)   0           conv5_block3_add[0][0]           \n",
            "__________________________________________________________________________________________________\n",
            "sequential_3 (Sequential)       (None, 35)           25727779    conv5_block3_out[0][0]           \n",
            "==================================================================================================\n",
            "Total params: 49,315,491\n",
            "Trainable params: 49,262,371\n",
            "Non-trainable params: 53,120\n",
            "__________________________________________________________________________________________________\n"
          ],
          "name": "stdout"
        }
      ]
    },
    {
      "cell_type": "code",
      "metadata": {
        "colab": {
          "base_uri": "https://localhost:8080/"
        },
        "id": "4R9RzNpfRI_E",
        "outputId": "f2e5141c-9e75-4d8f-901f-e12edc81f659"
      },
      "source": [
        "add_model = Sequential()\r\n",
        "add_model.add(Flatten(input_shape=base_model.output_shape[1:]))\r\n",
        "add_model.add(Dropout(0.3))\r\n",
        "add_model.add(Dense(256, activation='relu'))\r\n",
        "add_model.add(Dropout(0.3))\r\n",
        "add_model.add(Dense(128, activation='relu'))\r\n",
        "add_model.add(Dropout(0.3))\r\n",
        "add_model.add(Dense(35, activation='softmax'))\r\n",
        "\r\n",
        "model = Model(inputs=base_model.input, outputs=add_model(base_model.output))\r\n",
        "\r\n",
        "model.compile(loss='categorical_crossentropy', optimizer=optimizers.SGD(lr=1e-4, momentum=0.9),\r\n",
        "              metrics=['accuracy'])\r\n",
        "\r\n",
        "model.summary()"
      ],
      "execution_count": 119,
      "outputs": [
        {
          "output_type": "stream",
          "text": [
            "Model: \"functional_9\"\n",
            "__________________________________________________________________________________________________\n",
            "Layer (type)                    Output Shape         Param #     Connected to                     \n",
            "==================================================================================================\n",
            "input_2 (InputLayer)            [(None, 224, 224, 3) 0                                            \n",
            "__________________________________________________________________________________________________\n",
            "conv1_pad (ZeroPadding2D)       (None, 230, 230, 3)  0           input_2[0][0]                    \n",
            "__________________________________________________________________________________________________\n",
            "conv1_conv (Conv2D)             (None, 112, 112, 64) 9472        conv1_pad[0][0]                  \n",
            "__________________________________________________________________________________________________\n",
            "conv1_bn (BatchNormalization)   (None, 112, 112, 64) 256         conv1_conv[0][0]                 \n",
            "__________________________________________________________________________________________________\n",
            "conv1_relu (Activation)         (None, 112, 112, 64) 0           conv1_bn[0][0]                   \n",
            "__________________________________________________________________________________________________\n",
            "pool1_pad (ZeroPadding2D)       (None, 114, 114, 64) 0           conv1_relu[0][0]                 \n",
            "__________________________________________________________________________________________________\n",
            "pool1_pool (MaxPooling2D)       (None, 56, 56, 64)   0           pool1_pad[0][0]                  \n",
            "__________________________________________________________________________________________________\n",
            "conv2_block1_1_conv (Conv2D)    (None, 56, 56, 64)   4160        pool1_pool[0][0]                 \n",
            "__________________________________________________________________________________________________\n",
            "conv2_block1_1_bn (BatchNormali (None, 56, 56, 64)   256         conv2_block1_1_conv[0][0]        \n",
            "__________________________________________________________________________________________________\n",
            "conv2_block1_1_relu (Activation (None, 56, 56, 64)   0           conv2_block1_1_bn[0][0]          \n",
            "__________________________________________________________________________________________________\n",
            "conv2_block1_2_conv (Conv2D)    (None, 56, 56, 64)   36928       conv2_block1_1_relu[0][0]        \n",
            "__________________________________________________________________________________________________\n",
            "conv2_block1_2_bn (BatchNormali (None, 56, 56, 64)   256         conv2_block1_2_conv[0][0]        \n",
            "__________________________________________________________________________________________________\n",
            "conv2_block1_2_relu (Activation (None, 56, 56, 64)   0           conv2_block1_2_bn[0][0]          \n",
            "__________________________________________________________________________________________________\n",
            "conv2_block1_0_conv (Conv2D)    (None, 56, 56, 256)  16640       pool1_pool[0][0]                 \n",
            "__________________________________________________________________________________________________\n",
            "conv2_block1_3_conv (Conv2D)    (None, 56, 56, 256)  16640       conv2_block1_2_relu[0][0]        \n",
            "__________________________________________________________________________________________________\n",
            "conv2_block1_0_bn (BatchNormali (None, 56, 56, 256)  1024        conv2_block1_0_conv[0][0]        \n",
            "__________________________________________________________________________________________________\n",
            "conv2_block1_3_bn (BatchNormali (None, 56, 56, 256)  1024        conv2_block1_3_conv[0][0]        \n",
            "__________________________________________________________________________________________________\n",
            "conv2_block1_add (Add)          (None, 56, 56, 256)  0           conv2_block1_0_bn[0][0]          \n",
            "                                                                 conv2_block1_3_bn[0][0]          \n",
            "__________________________________________________________________________________________________\n",
            "conv2_block1_out (Activation)   (None, 56, 56, 256)  0           conv2_block1_add[0][0]           \n",
            "__________________________________________________________________________________________________\n",
            "conv2_block2_1_conv (Conv2D)    (None, 56, 56, 64)   16448       conv2_block1_out[0][0]           \n",
            "__________________________________________________________________________________________________\n",
            "conv2_block2_1_bn (BatchNormali (None, 56, 56, 64)   256         conv2_block2_1_conv[0][0]        \n",
            "__________________________________________________________________________________________________\n",
            "conv2_block2_1_relu (Activation (None, 56, 56, 64)   0           conv2_block2_1_bn[0][0]          \n",
            "__________________________________________________________________________________________________\n",
            "conv2_block2_2_conv (Conv2D)    (None, 56, 56, 64)   36928       conv2_block2_1_relu[0][0]        \n",
            "__________________________________________________________________________________________________\n",
            "conv2_block2_2_bn (BatchNormali (None, 56, 56, 64)   256         conv2_block2_2_conv[0][0]        \n",
            "__________________________________________________________________________________________________\n",
            "conv2_block2_2_relu (Activation (None, 56, 56, 64)   0           conv2_block2_2_bn[0][0]          \n",
            "__________________________________________________________________________________________________\n",
            "conv2_block2_3_conv (Conv2D)    (None, 56, 56, 256)  16640       conv2_block2_2_relu[0][0]        \n",
            "__________________________________________________________________________________________________\n",
            "conv2_block2_3_bn (BatchNormali (None, 56, 56, 256)  1024        conv2_block2_3_conv[0][0]        \n",
            "__________________________________________________________________________________________________\n",
            "conv2_block2_add (Add)          (None, 56, 56, 256)  0           conv2_block1_out[0][0]           \n",
            "                                                                 conv2_block2_3_bn[0][0]          \n",
            "__________________________________________________________________________________________________\n",
            "conv2_block2_out (Activation)   (None, 56, 56, 256)  0           conv2_block2_add[0][0]           \n",
            "__________________________________________________________________________________________________\n",
            "conv2_block3_1_conv (Conv2D)    (None, 56, 56, 64)   16448       conv2_block2_out[0][0]           \n",
            "__________________________________________________________________________________________________\n",
            "conv2_block3_1_bn (BatchNormali (None, 56, 56, 64)   256         conv2_block3_1_conv[0][0]        \n",
            "__________________________________________________________________________________________________\n",
            "conv2_block3_1_relu (Activation (None, 56, 56, 64)   0           conv2_block3_1_bn[0][0]          \n",
            "__________________________________________________________________________________________________\n",
            "conv2_block3_2_conv (Conv2D)    (None, 56, 56, 64)   36928       conv2_block3_1_relu[0][0]        \n",
            "__________________________________________________________________________________________________\n",
            "conv2_block3_2_bn (BatchNormali (None, 56, 56, 64)   256         conv2_block3_2_conv[0][0]        \n",
            "__________________________________________________________________________________________________\n",
            "conv2_block3_2_relu (Activation (None, 56, 56, 64)   0           conv2_block3_2_bn[0][0]          \n",
            "__________________________________________________________________________________________________\n",
            "conv2_block3_3_conv (Conv2D)    (None, 56, 56, 256)  16640       conv2_block3_2_relu[0][0]        \n",
            "__________________________________________________________________________________________________\n",
            "conv2_block3_3_bn (BatchNormali (None, 56, 56, 256)  1024        conv2_block3_3_conv[0][0]        \n",
            "__________________________________________________________________________________________________\n",
            "conv2_block3_add (Add)          (None, 56, 56, 256)  0           conv2_block2_out[0][0]           \n",
            "                                                                 conv2_block3_3_bn[0][0]          \n",
            "__________________________________________________________________________________________________\n",
            "conv2_block3_out (Activation)   (None, 56, 56, 256)  0           conv2_block3_add[0][0]           \n",
            "__________________________________________________________________________________________________\n",
            "conv3_block1_1_conv (Conv2D)    (None, 28, 28, 128)  32896       conv2_block3_out[0][0]           \n",
            "__________________________________________________________________________________________________\n",
            "conv3_block1_1_bn (BatchNormali (None, 28, 28, 128)  512         conv3_block1_1_conv[0][0]        \n",
            "__________________________________________________________________________________________________\n",
            "conv3_block1_1_relu (Activation (None, 28, 28, 128)  0           conv3_block1_1_bn[0][0]          \n",
            "__________________________________________________________________________________________________\n",
            "conv3_block1_2_conv (Conv2D)    (None, 28, 28, 128)  147584      conv3_block1_1_relu[0][0]        \n",
            "__________________________________________________________________________________________________\n",
            "conv3_block1_2_bn (BatchNormali (None, 28, 28, 128)  512         conv3_block1_2_conv[0][0]        \n",
            "__________________________________________________________________________________________________\n",
            "conv3_block1_2_relu (Activation (None, 28, 28, 128)  0           conv3_block1_2_bn[0][0]          \n",
            "__________________________________________________________________________________________________\n",
            "conv3_block1_0_conv (Conv2D)    (None, 28, 28, 512)  131584      conv2_block3_out[0][0]           \n",
            "__________________________________________________________________________________________________\n",
            "conv3_block1_3_conv (Conv2D)    (None, 28, 28, 512)  66048       conv3_block1_2_relu[0][0]        \n",
            "__________________________________________________________________________________________________\n",
            "conv3_block1_0_bn (BatchNormali (None, 28, 28, 512)  2048        conv3_block1_0_conv[0][0]        \n",
            "__________________________________________________________________________________________________\n",
            "conv3_block1_3_bn (BatchNormali (None, 28, 28, 512)  2048        conv3_block1_3_conv[0][0]        \n",
            "__________________________________________________________________________________________________\n",
            "conv3_block1_add (Add)          (None, 28, 28, 512)  0           conv3_block1_0_bn[0][0]          \n",
            "                                                                 conv3_block1_3_bn[0][0]          \n",
            "__________________________________________________________________________________________________\n",
            "conv3_block1_out (Activation)   (None, 28, 28, 512)  0           conv3_block1_add[0][0]           \n",
            "__________________________________________________________________________________________________\n",
            "conv3_block2_1_conv (Conv2D)    (None, 28, 28, 128)  65664       conv3_block1_out[0][0]           \n",
            "__________________________________________________________________________________________________\n",
            "conv3_block2_1_bn (BatchNormali (None, 28, 28, 128)  512         conv3_block2_1_conv[0][0]        \n",
            "__________________________________________________________________________________________________\n",
            "conv3_block2_1_relu (Activation (None, 28, 28, 128)  0           conv3_block2_1_bn[0][0]          \n",
            "__________________________________________________________________________________________________\n",
            "conv3_block2_2_conv (Conv2D)    (None, 28, 28, 128)  147584      conv3_block2_1_relu[0][0]        \n",
            "__________________________________________________________________________________________________\n",
            "conv3_block2_2_bn (BatchNormali (None, 28, 28, 128)  512         conv3_block2_2_conv[0][0]        \n",
            "__________________________________________________________________________________________________\n",
            "conv3_block2_2_relu (Activation (None, 28, 28, 128)  0           conv3_block2_2_bn[0][0]          \n",
            "__________________________________________________________________________________________________\n",
            "conv3_block2_3_conv (Conv2D)    (None, 28, 28, 512)  66048       conv3_block2_2_relu[0][0]        \n",
            "__________________________________________________________________________________________________\n",
            "conv3_block2_3_bn (BatchNormali (None, 28, 28, 512)  2048        conv3_block2_3_conv[0][0]        \n",
            "__________________________________________________________________________________________________\n",
            "conv3_block2_add (Add)          (None, 28, 28, 512)  0           conv3_block1_out[0][0]           \n",
            "                                                                 conv3_block2_3_bn[0][0]          \n",
            "__________________________________________________________________________________________________\n",
            "conv3_block2_out (Activation)   (None, 28, 28, 512)  0           conv3_block2_add[0][0]           \n",
            "__________________________________________________________________________________________________\n",
            "conv3_block3_1_conv (Conv2D)    (None, 28, 28, 128)  65664       conv3_block2_out[0][0]           \n",
            "__________________________________________________________________________________________________\n",
            "conv3_block3_1_bn (BatchNormali (None, 28, 28, 128)  512         conv3_block3_1_conv[0][0]        \n",
            "__________________________________________________________________________________________________\n",
            "conv3_block3_1_relu (Activation (None, 28, 28, 128)  0           conv3_block3_1_bn[0][0]          \n",
            "__________________________________________________________________________________________________\n",
            "conv3_block3_2_conv (Conv2D)    (None, 28, 28, 128)  147584      conv3_block3_1_relu[0][0]        \n",
            "__________________________________________________________________________________________________\n",
            "conv3_block3_2_bn (BatchNormali (None, 28, 28, 128)  512         conv3_block3_2_conv[0][0]        \n",
            "__________________________________________________________________________________________________\n",
            "conv3_block3_2_relu (Activation (None, 28, 28, 128)  0           conv3_block3_2_bn[0][0]          \n",
            "__________________________________________________________________________________________________\n",
            "conv3_block3_3_conv (Conv2D)    (None, 28, 28, 512)  66048       conv3_block3_2_relu[0][0]        \n",
            "__________________________________________________________________________________________________\n",
            "conv3_block3_3_bn (BatchNormali (None, 28, 28, 512)  2048        conv3_block3_3_conv[0][0]        \n",
            "__________________________________________________________________________________________________\n",
            "conv3_block3_add (Add)          (None, 28, 28, 512)  0           conv3_block2_out[0][0]           \n",
            "                                                                 conv3_block3_3_bn[0][0]          \n",
            "__________________________________________________________________________________________________\n",
            "conv3_block3_out (Activation)   (None, 28, 28, 512)  0           conv3_block3_add[0][0]           \n",
            "__________________________________________________________________________________________________\n",
            "conv3_block4_1_conv (Conv2D)    (None, 28, 28, 128)  65664       conv3_block3_out[0][0]           \n",
            "__________________________________________________________________________________________________\n",
            "conv3_block4_1_bn (BatchNormali (None, 28, 28, 128)  512         conv3_block4_1_conv[0][0]        \n",
            "__________________________________________________________________________________________________\n",
            "conv3_block4_1_relu (Activation (None, 28, 28, 128)  0           conv3_block4_1_bn[0][0]          \n",
            "__________________________________________________________________________________________________\n",
            "conv3_block4_2_conv (Conv2D)    (None, 28, 28, 128)  147584      conv3_block4_1_relu[0][0]        \n",
            "__________________________________________________________________________________________________\n",
            "conv3_block4_2_bn (BatchNormali (None, 28, 28, 128)  512         conv3_block4_2_conv[0][0]        \n",
            "__________________________________________________________________________________________________\n",
            "conv3_block4_2_relu (Activation (None, 28, 28, 128)  0           conv3_block4_2_bn[0][0]          \n",
            "__________________________________________________________________________________________________\n",
            "conv3_block4_3_conv (Conv2D)    (None, 28, 28, 512)  66048       conv3_block4_2_relu[0][0]        \n",
            "__________________________________________________________________________________________________\n",
            "conv3_block4_3_bn (BatchNormali (None, 28, 28, 512)  2048        conv3_block4_3_conv[0][0]        \n",
            "__________________________________________________________________________________________________\n",
            "conv3_block4_add (Add)          (None, 28, 28, 512)  0           conv3_block3_out[0][0]           \n",
            "                                                                 conv3_block4_3_bn[0][0]          \n",
            "__________________________________________________________________________________________________\n",
            "conv3_block4_out (Activation)   (None, 28, 28, 512)  0           conv3_block4_add[0][0]           \n",
            "__________________________________________________________________________________________________\n",
            "conv4_block1_1_conv (Conv2D)    (None, 14, 14, 256)  131328      conv3_block4_out[0][0]           \n",
            "__________________________________________________________________________________________________\n",
            "conv4_block1_1_bn (BatchNormali (None, 14, 14, 256)  1024        conv4_block1_1_conv[0][0]        \n",
            "__________________________________________________________________________________________________\n",
            "conv4_block1_1_relu (Activation (None, 14, 14, 256)  0           conv4_block1_1_bn[0][0]          \n",
            "__________________________________________________________________________________________________\n",
            "conv4_block1_2_conv (Conv2D)    (None, 14, 14, 256)  590080      conv4_block1_1_relu[0][0]        \n",
            "__________________________________________________________________________________________________\n",
            "conv4_block1_2_bn (BatchNormali (None, 14, 14, 256)  1024        conv4_block1_2_conv[0][0]        \n",
            "__________________________________________________________________________________________________\n",
            "conv4_block1_2_relu (Activation (None, 14, 14, 256)  0           conv4_block1_2_bn[0][0]          \n",
            "__________________________________________________________________________________________________\n",
            "conv4_block1_0_conv (Conv2D)    (None, 14, 14, 1024) 525312      conv3_block4_out[0][0]           \n",
            "__________________________________________________________________________________________________\n",
            "conv4_block1_3_conv (Conv2D)    (None, 14, 14, 1024) 263168      conv4_block1_2_relu[0][0]        \n",
            "__________________________________________________________________________________________________\n",
            "conv4_block1_0_bn (BatchNormali (None, 14, 14, 1024) 4096        conv4_block1_0_conv[0][0]        \n",
            "__________________________________________________________________________________________________\n",
            "conv4_block1_3_bn (BatchNormali (None, 14, 14, 1024) 4096        conv4_block1_3_conv[0][0]        \n",
            "__________________________________________________________________________________________________\n",
            "conv4_block1_add (Add)          (None, 14, 14, 1024) 0           conv4_block1_0_bn[0][0]          \n",
            "                                                                 conv4_block1_3_bn[0][0]          \n",
            "__________________________________________________________________________________________________\n",
            "conv4_block1_out (Activation)   (None, 14, 14, 1024) 0           conv4_block1_add[0][0]           \n",
            "__________________________________________________________________________________________________\n",
            "conv4_block2_1_conv (Conv2D)    (None, 14, 14, 256)  262400      conv4_block1_out[0][0]           \n",
            "__________________________________________________________________________________________________\n",
            "conv4_block2_1_bn (BatchNormali (None, 14, 14, 256)  1024        conv4_block2_1_conv[0][0]        \n",
            "__________________________________________________________________________________________________\n",
            "conv4_block2_1_relu (Activation (None, 14, 14, 256)  0           conv4_block2_1_bn[0][0]          \n",
            "__________________________________________________________________________________________________\n",
            "conv4_block2_2_conv (Conv2D)    (None, 14, 14, 256)  590080      conv4_block2_1_relu[0][0]        \n",
            "__________________________________________________________________________________________________\n",
            "conv4_block2_2_bn (BatchNormali (None, 14, 14, 256)  1024        conv4_block2_2_conv[0][0]        \n",
            "__________________________________________________________________________________________________\n",
            "conv4_block2_2_relu (Activation (None, 14, 14, 256)  0           conv4_block2_2_bn[0][0]          \n",
            "__________________________________________________________________________________________________\n",
            "conv4_block2_3_conv (Conv2D)    (None, 14, 14, 1024) 263168      conv4_block2_2_relu[0][0]        \n",
            "__________________________________________________________________________________________________\n",
            "conv4_block2_3_bn (BatchNormali (None, 14, 14, 1024) 4096        conv4_block2_3_conv[0][0]        \n",
            "__________________________________________________________________________________________________\n",
            "conv4_block2_add (Add)          (None, 14, 14, 1024) 0           conv4_block1_out[0][0]           \n",
            "                                                                 conv4_block2_3_bn[0][0]          \n",
            "__________________________________________________________________________________________________\n",
            "conv4_block2_out (Activation)   (None, 14, 14, 1024) 0           conv4_block2_add[0][0]           \n",
            "__________________________________________________________________________________________________\n",
            "conv4_block3_1_conv (Conv2D)    (None, 14, 14, 256)  262400      conv4_block2_out[0][0]           \n",
            "__________________________________________________________________________________________________\n",
            "conv4_block3_1_bn (BatchNormali (None, 14, 14, 256)  1024        conv4_block3_1_conv[0][0]        \n",
            "__________________________________________________________________________________________________\n",
            "conv4_block3_1_relu (Activation (None, 14, 14, 256)  0           conv4_block3_1_bn[0][0]          \n",
            "__________________________________________________________________________________________________\n",
            "conv4_block3_2_conv (Conv2D)    (None, 14, 14, 256)  590080      conv4_block3_1_relu[0][0]        \n",
            "__________________________________________________________________________________________________\n",
            "conv4_block3_2_bn (BatchNormali (None, 14, 14, 256)  1024        conv4_block3_2_conv[0][0]        \n",
            "__________________________________________________________________________________________________\n",
            "conv4_block3_2_relu (Activation (None, 14, 14, 256)  0           conv4_block3_2_bn[0][0]          \n",
            "__________________________________________________________________________________________________\n",
            "conv4_block3_3_conv (Conv2D)    (None, 14, 14, 1024) 263168      conv4_block3_2_relu[0][0]        \n",
            "__________________________________________________________________________________________________\n",
            "conv4_block3_3_bn (BatchNormali (None, 14, 14, 1024) 4096        conv4_block3_3_conv[0][0]        \n",
            "__________________________________________________________________________________________________\n",
            "conv4_block3_add (Add)          (None, 14, 14, 1024) 0           conv4_block2_out[0][0]           \n",
            "                                                                 conv4_block3_3_bn[0][0]          \n",
            "__________________________________________________________________________________________________\n",
            "conv4_block3_out (Activation)   (None, 14, 14, 1024) 0           conv4_block3_add[0][0]           \n",
            "__________________________________________________________________________________________________\n",
            "conv4_block4_1_conv (Conv2D)    (None, 14, 14, 256)  262400      conv4_block3_out[0][0]           \n",
            "__________________________________________________________________________________________________\n",
            "conv4_block4_1_bn (BatchNormali (None, 14, 14, 256)  1024        conv4_block4_1_conv[0][0]        \n",
            "__________________________________________________________________________________________________\n",
            "conv4_block4_1_relu (Activation (None, 14, 14, 256)  0           conv4_block4_1_bn[0][0]          \n",
            "__________________________________________________________________________________________________\n",
            "conv4_block4_2_conv (Conv2D)    (None, 14, 14, 256)  590080      conv4_block4_1_relu[0][0]        \n",
            "__________________________________________________________________________________________________\n",
            "conv4_block4_2_bn (BatchNormali (None, 14, 14, 256)  1024        conv4_block4_2_conv[0][0]        \n",
            "__________________________________________________________________________________________________\n",
            "conv4_block4_2_relu (Activation (None, 14, 14, 256)  0           conv4_block4_2_bn[0][0]          \n",
            "__________________________________________________________________________________________________\n",
            "conv4_block4_3_conv (Conv2D)    (None, 14, 14, 1024) 263168      conv4_block4_2_relu[0][0]        \n",
            "__________________________________________________________________________________________________\n",
            "conv4_block4_3_bn (BatchNormali (None, 14, 14, 1024) 4096        conv4_block4_3_conv[0][0]        \n",
            "__________________________________________________________________________________________________\n",
            "conv4_block4_add (Add)          (None, 14, 14, 1024) 0           conv4_block3_out[0][0]           \n",
            "                                                                 conv4_block4_3_bn[0][0]          \n",
            "__________________________________________________________________________________________________\n",
            "conv4_block4_out (Activation)   (None, 14, 14, 1024) 0           conv4_block4_add[0][0]           \n",
            "__________________________________________________________________________________________________\n",
            "conv4_block5_1_conv (Conv2D)    (None, 14, 14, 256)  262400      conv4_block4_out[0][0]           \n",
            "__________________________________________________________________________________________________\n",
            "conv4_block5_1_bn (BatchNormali (None, 14, 14, 256)  1024        conv4_block5_1_conv[0][0]        \n",
            "__________________________________________________________________________________________________\n",
            "conv4_block5_1_relu (Activation (None, 14, 14, 256)  0           conv4_block5_1_bn[0][0]          \n",
            "__________________________________________________________________________________________________\n",
            "conv4_block5_2_conv (Conv2D)    (None, 14, 14, 256)  590080      conv4_block5_1_relu[0][0]        \n",
            "__________________________________________________________________________________________________\n",
            "conv4_block5_2_bn (BatchNormali (None, 14, 14, 256)  1024        conv4_block5_2_conv[0][0]        \n",
            "__________________________________________________________________________________________________\n",
            "conv4_block5_2_relu (Activation (None, 14, 14, 256)  0           conv4_block5_2_bn[0][0]          \n",
            "__________________________________________________________________________________________________\n",
            "conv4_block5_3_conv (Conv2D)    (None, 14, 14, 1024) 263168      conv4_block5_2_relu[0][0]        \n",
            "__________________________________________________________________________________________________\n",
            "conv4_block5_3_bn (BatchNormali (None, 14, 14, 1024) 4096        conv4_block5_3_conv[0][0]        \n",
            "__________________________________________________________________________________________________\n",
            "conv4_block5_add (Add)          (None, 14, 14, 1024) 0           conv4_block4_out[0][0]           \n",
            "                                                                 conv4_block5_3_bn[0][0]          \n",
            "__________________________________________________________________________________________________\n",
            "conv4_block5_out (Activation)   (None, 14, 14, 1024) 0           conv4_block5_add[0][0]           \n",
            "__________________________________________________________________________________________________\n",
            "conv4_block6_1_conv (Conv2D)    (None, 14, 14, 256)  262400      conv4_block5_out[0][0]           \n",
            "__________________________________________________________________________________________________\n",
            "conv4_block6_1_bn (BatchNormali (None, 14, 14, 256)  1024        conv4_block6_1_conv[0][0]        \n",
            "__________________________________________________________________________________________________\n",
            "conv4_block6_1_relu (Activation (None, 14, 14, 256)  0           conv4_block6_1_bn[0][0]          \n",
            "__________________________________________________________________________________________________\n",
            "conv4_block6_2_conv (Conv2D)    (None, 14, 14, 256)  590080      conv4_block6_1_relu[0][0]        \n",
            "__________________________________________________________________________________________________\n",
            "conv4_block6_2_bn (BatchNormali (None, 14, 14, 256)  1024        conv4_block6_2_conv[0][0]        \n",
            "__________________________________________________________________________________________________\n",
            "conv4_block6_2_relu (Activation (None, 14, 14, 256)  0           conv4_block6_2_bn[0][0]          \n",
            "__________________________________________________________________________________________________\n",
            "conv4_block6_3_conv (Conv2D)    (None, 14, 14, 1024) 263168      conv4_block6_2_relu[0][0]        \n",
            "__________________________________________________________________________________________________\n",
            "conv4_block6_3_bn (BatchNormali (None, 14, 14, 1024) 4096        conv4_block6_3_conv[0][0]        \n",
            "__________________________________________________________________________________________________\n",
            "conv4_block6_add (Add)          (None, 14, 14, 1024) 0           conv4_block5_out[0][0]           \n",
            "                                                                 conv4_block6_3_bn[0][0]          \n",
            "__________________________________________________________________________________________________\n",
            "conv4_block6_out (Activation)   (None, 14, 14, 1024) 0           conv4_block6_add[0][0]           \n",
            "__________________________________________________________________________________________________\n",
            "conv5_block1_1_conv (Conv2D)    (None, 7, 7, 512)    524800      conv4_block6_out[0][0]           \n",
            "__________________________________________________________________________________________________\n",
            "conv5_block1_1_bn (BatchNormali (None, 7, 7, 512)    2048        conv5_block1_1_conv[0][0]        \n",
            "__________________________________________________________________________________________________\n",
            "conv5_block1_1_relu (Activation (None, 7, 7, 512)    0           conv5_block1_1_bn[0][0]          \n",
            "__________________________________________________________________________________________________\n",
            "conv5_block1_2_conv (Conv2D)    (None, 7, 7, 512)    2359808     conv5_block1_1_relu[0][0]        \n",
            "__________________________________________________________________________________________________\n",
            "conv5_block1_2_bn (BatchNormali (None, 7, 7, 512)    2048        conv5_block1_2_conv[0][0]        \n",
            "__________________________________________________________________________________________________\n",
            "conv5_block1_2_relu (Activation (None, 7, 7, 512)    0           conv5_block1_2_bn[0][0]          \n",
            "__________________________________________________________________________________________________\n",
            "conv5_block1_0_conv (Conv2D)    (None, 7, 7, 2048)   2099200     conv4_block6_out[0][0]           \n",
            "__________________________________________________________________________________________________\n",
            "conv5_block1_3_conv (Conv2D)    (None, 7, 7, 2048)   1050624     conv5_block1_2_relu[0][0]        \n",
            "__________________________________________________________________________________________________\n",
            "conv5_block1_0_bn (BatchNormali (None, 7, 7, 2048)   8192        conv5_block1_0_conv[0][0]        \n",
            "__________________________________________________________________________________________________\n",
            "conv5_block1_3_bn (BatchNormali (None, 7, 7, 2048)   8192        conv5_block1_3_conv[0][0]        \n",
            "__________________________________________________________________________________________________\n",
            "conv5_block1_add (Add)          (None, 7, 7, 2048)   0           conv5_block1_0_bn[0][0]          \n",
            "                                                                 conv5_block1_3_bn[0][0]          \n",
            "__________________________________________________________________________________________________\n",
            "conv5_block1_out (Activation)   (None, 7, 7, 2048)   0           conv5_block1_add[0][0]           \n",
            "__________________________________________________________________________________________________\n",
            "conv5_block2_1_conv (Conv2D)    (None, 7, 7, 512)    1049088     conv5_block1_out[0][0]           \n",
            "__________________________________________________________________________________________________\n",
            "conv5_block2_1_bn (BatchNormali (None, 7, 7, 512)    2048        conv5_block2_1_conv[0][0]        \n",
            "__________________________________________________________________________________________________\n",
            "conv5_block2_1_relu (Activation (None, 7, 7, 512)    0           conv5_block2_1_bn[0][0]          \n",
            "__________________________________________________________________________________________________\n",
            "conv5_block2_2_conv (Conv2D)    (None, 7, 7, 512)    2359808     conv5_block2_1_relu[0][0]        \n",
            "__________________________________________________________________________________________________\n",
            "conv5_block2_2_bn (BatchNormali (None, 7, 7, 512)    2048        conv5_block2_2_conv[0][0]        \n",
            "__________________________________________________________________________________________________\n",
            "conv5_block2_2_relu (Activation (None, 7, 7, 512)    0           conv5_block2_2_bn[0][0]          \n",
            "__________________________________________________________________________________________________\n",
            "conv5_block2_3_conv (Conv2D)    (None, 7, 7, 2048)   1050624     conv5_block2_2_relu[0][0]        \n",
            "__________________________________________________________________________________________________\n",
            "conv5_block2_3_bn (BatchNormali (None, 7, 7, 2048)   8192        conv5_block2_3_conv[0][0]        \n",
            "__________________________________________________________________________________________________\n",
            "conv5_block2_add (Add)          (None, 7, 7, 2048)   0           conv5_block1_out[0][0]           \n",
            "                                                                 conv5_block2_3_bn[0][0]          \n",
            "__________________________________________________________________________________________________\n",
            "conv5_block2_out (Activation)   (None, 7, 7, 2048)   0           conv5_block2_add[0][0]           \n",
            "__________________________________________________________________________________________________\n",
            "conv5_block3_1_conv (Conv2D)    (None, 7, 7, 512)    1049088     conv5_block2_out[0][0]           \n",
            "__________________________________________________________________________________________________\n",
            "conv5_block3_1_bn (BatchNormali (None, 7, 7, 512)    2048        conv5_block3_1_conv[0][0]        \n",
            "__________________________________________________________________________________________________\n",
            "conv5_block3_1_relu (Activation (None, 7, 7, 512)    0           conv5_block3_1_bn[0][0]          \n",
            "__________________________________________________________________________________________________\n",
            "conv5_block3_2_conv (Conv2D)    (None, 7, 7, 512)    2359808     conv5_block3_1_relu[0][0]        \n",
            "__________________________________________________________________________________________________\n",
            "conv5_block3_2_bn (BatchNormali (None, 7, 7, 512)    2048        conv5_block3_2_conv[0][0]        \n",
            "__________________________________________________________________________________________________\n",
            "conv5_block3_2_relu (Activation (None, 7, 7, 512)    0           conv5_block3_2_bn[0][0]          \n",
            "__________________________________________________________________________________________________\n",
            "conv5_block3_3_conv (Conv2D)    (None, 7, 7, 2048)   1050624     conv5_block3_2_relu[0][0]        \n",
            "__________________________________________________________________________________________________\n",
            "conv5_block3_3_bn (BatchNormali (None, 7, 7, 2048)   8192        conv5_block3_3_conv[0][0]        \n",
            "__________________________________________________________________________________________________\n",
            "conv5_block3_add (Add)          (None, 7, 7, 2048)   0           conv5_block2_out[0][0]           \n",
            "                                                                 conv5_block3_3_bn[0][0]          \n",
            "__________________________________________________________________________________________________\n",
            "conv5_block3_out (Activation)   (None, 7, 7, 2048)   0           conv5_block3_add[0][0]           \n",
            "__________________________________________________________________________________________________\n",
            "sequential_4 (Sequential)       (None, 35)           25727779    conv5_block3_out[0][0]           \n",
            "==================================================================================================\n",
            "Total params: 49,315,491\n",
            "Trainable params: 49,262,371\n",
            "Non-trainable params: 53,120\n",
            "__________________________________________________________________________________________________\n"
          ],
          "name": "stdout"
        }
      ]
    },
    {
      "cell_type": "code",
      "metadata": {
        "colab": {
          "base_uri": "https://localhost:8080/"
        },
        "id": "TNGdi82Dg_nj",
        "outputId": "633d7ce4-de6b-42af-88b9-f10effd5d64b"
      },
      "source": [
        "model.fit_generator(generator=train_generator,\r\n",
        "                    steps_per_epoch=4146//32,\r\n",
        "                    validation_data=validation_generator,\r\n",
        "                    validation_steps=1036//32,\r\n",
        "                    epochs=10\r\n",
        "                    )\r\n"
      ],
      "execution_count": 127,
      "outputs": [
        {
          "output_type": "stream",
          "text": [
            "Epoch 1/10\n",
            "129/129 [==============================] - 77s 601ms/step - loss: 0.5376 - accuracy: 0.8388 - val_loss: 3.1646 - val_accuracy: 0.3193\n",
            "Epoch 2/10\n",
            "129/129 [==============================] - 77s 600ms/step - loss: 0.5351 - accuracy: 0.8352 - val_loss: 2.9309 - val_accuracy: 0.3271\n",
            "Epoch 3/10\n",
            "129/129 [==============================] - 78s 603ms/step - loss: 0.5363 - accuracy: 0.8369 - val_loss: 3.1324 - val_accuracy: 0.3135\n",
            "Epoch 4/10\n",
            "129/129 [==============================] - 80s 618ms/step - loss: 0.5194 - accuracy: 0.8452 - val_loss: 3.1958 - val_accuracy: 0.3232\n",
            "Epoch 5/10\n",
            "129/129 [==============================] - 80s 620ms/step - loss: 0.4598 - accuracy: 0.8641 - val_loss: 3.1638 - val_accuracy: 0.3164\n",
            "Epoch 6/10\n",
            "129/129 [==============================] - 80s 623ms/step - loss: 0.5198 - accuracy: 0.8381 - val_loss: 3.1792 - val_accuracy: 0.3057\n",
            "Epoch 7/10\n",
            "129/129 [==============================] - 81s 626ms/step - loss: 0.4526 - accuracy: 0.8551 - val_loss: 3.1685 - val_accuracy: 0.3232\n",
            "Epoch 8/10\n",
            "129/129 [==============================] - 81s 628ms/step - loss: 0.4379 - accuracy: 0.8641 - val_loss: 3.2465 - val_accuracy: 0.3301\n",
            "Epoch 9/10\n",
            "129/129 [==============================] - 81s 626ms/step - loss: 0.4469 - accuracy: 0.8639 - val_loss: 3.2514 - val_accuracy: 0.3301\n",
            "Epoch 10/10\n",
            "129/129 [==============================] - 81s 627ms/step - loss: 0.4179 - accuracy: 0.8712 - val_loss: 3.2463 - val_accuracy: 0.3037\n"
          ],
          "name": "stdout"
        },
        {
          "output_type": "execute_result",
          "data": {
            "text/plain": [
              "<tensorflow.python.keras.callbacks.History at 0x7f5782b31208>"
            ]
          },
          "metadata": {
            "tags": []
          },
          "execution_count": 127
        }
      ]
    },
    {
      "cell_type": "code",
      "metadata": {
        "id": "gBFLf19wOox-"
      },
      "source": [
        "#Reused the model After 50 epoch , then again train . "
      ],
      "execution_count": null,
      "outputs": []
    },
    {
      "cell_type": "code",
      "metadata": {
        "id": "fuL5CPyqQVbK"
      },
      "source": [
        "model.save(\"/content/drive/MyDrive/Snake detection/resnet50_snake_detection_2.hdf5\")"
      ],
      "execution_count": 122,
      "outputs": []
    },
    {
      "cell_type": "code",
      "metadata": {
        "id": "f2uOHsV_3Rqf"
      },
      "source": [
        "from keras.models import load_model\r\n",
        "model = load_model('/content/drive/MyDrive/Snake detection/resnet50_snake_detection_2.hdf5')"
      ],
      "execution_count": 125,
      "outputs": []
    },
    {
      "cell_type": "code",
      "metadata": {
        "colab": {
          "base_uri": "https://localhost:8080/"
        },
        "id": "vRhM_Ot2h15B",
        "outputId": "55efd7e9-3af6-432e-ede3-ba244724eb90"
      },
      "source": [
        "from tqdm import tqdm\r\n",
        "test_img = []\r\n",
        "for img_name in tqdm(test['image_id'].values):\r\n",
        "    test_img.append(img_name + '.jpg')"
      ],
      "execution_count": 128,
      "outputs": [
        {
          "output_type": "stream",
          "text": [
            "100%|██████████| 2361/2361 [00:00<00:00, 827297.56it/s]\n"
          ],
          "name": "stderr"
        }
      ]
    },
    {
      "cell_type": "code",
      "metadata": {
        "id": "Mip0OuA1jO_3"
      },
      "source": [
        "test_img"
      ],
      "execution_count": null,
      "outputs": []
    },
    {
      "cell_type": "code",
      "metadata": {
        "id": "29HqZN0Xig5-",
        "outputId": "26ebb547-aff2-4e16-8786-460f678953e9",
        "colab": {
          "base_uri": "https://localhost:8080/",
          "height": 424
        }
      },
      "source": [
        "TEST_PATH = '/content/drive/MyDrive/Snake detection/Snake Detection/dataset/test/'\r\n",
        "test['image'] = test_img\r\n",
        "\r\n",
        "test"
      ],
      "execution_count": 130,
      "outputs": [
        {
          "output_type": "execute_result",
          "data": {
            "text/html": [
              "<div>\n",
              "<style scoped>\n",
              "    .dataframe tbody tr th:only-of-type {\n",
              "        vertical-align: middle;\n",
              "    }\n",
              "\n",
              "    .dataframe tbody tr th {\n",
              "        vertical-align: top;\n",
              "    }\n",
              "\n",
              "    .dataframe thead th {\n",
              "        text-align: right;\n",
              "    }\n",
              "</style>\n",
              "<table border=\"1\" class=\"dataframe\">\n",
              "  <thead>\n",
              "    <tr style=\"text-align: right;\">\n",
              "      <th></th>\n",
              "      <th>image_id</th>\n",
              "      <th>image</th>\n",
              "    </tr>\n",
              "  </thead>\n",
              "  <tbody>\n",
              "    <tr>\n",
              "      <th>0</th>\n",
              "      <td>7ede553357</td>\n",
              "      <td>7ede553357.jpg</td>\n",
              "    </tr>\n",
              "    <tr>\n",
              "      <th>1</th>\n",
              "      <td>3500b219e4</td>\n",
              "      <td>3500b219e4.jpg</td>\n",
              "    </tr>\n",
              "    <tr>\n",
              "      <th>2</th>\n",
              "      <td>d43a78d6d9</td>\n",
              "      <td>d43a78d6d9.jpg</td>\n",
              "    </tr>\n",
              "    <tr>\n",
              "      <th>3</th>\n",
              "      <td>1f36f26994</td>\n",
              "      <td>1f36f26994.jpg</td>\n",
              "    </tr>\n",
              "    <tr>\n",
              "      <th>4</th>\n",
              "      <td>8cb85fc58e</td>\n",
              "      <td>8cb85fc58e.jpg</td>\n",
              "    </tr>\n",
              "    <tr>\n",
              "      <th>...</th>\n",
              "      <td>...</td>\n",
              "      <td>...</td>\n",
              "    </tr>\n",
              "    <tr>\n",
              "      <th>2356</th>\n",
              "      <td>93e591cb23</td>\n",
              "      <td>93e591cb23.jpg</td>\n",
              "    </tr>\n",
              "    <tr>\n",
              "      <th>2357</th>\n",
              "      <td>68a603b39d</td>\n",
              "      <td>68a603b39d.jpg</td>\n",
              "    </tr>\n",
              "    <tr>\n",
              "      <th>2358</th>\n",
              "      <td>4f472510f3</td>\n",
              "      <td>4f472510f3.jpg</td>\n",
              "    </tr>\n",
              "    <tr>\n",
              "      <th>2359</th>\n",
              "      <td>d6884444ae</td>\n",
              "      <td>d6884444ae.jpg</td>\n",
              "    </tr>\n",
              "    <tr>\n",
              "      <th>2360</th>\n",
              "      <td>c0fa7df5de</td>\n",
              "      <td>c0fa7df5de.jpg</td>\n",
              "    </tr>\n",
              "  </tbody>\n",
              "</table>\n",
              "<p>2361 rows × 2 columns</p>\n",
              "</div>"
            ],
            "text/plain": [
              "        image_id           image\n",
              "0     7ede553357  7ede553357.jpg\n",
              "1     3500b219e4  3500b219e4.jpg\n",
              "2     d43a78d6d9  d43a78d6d9.jpg\n",
              "3     1f36f26994  1f36f26994.jpg\n",
              "4     8cb85fc58e  8cb85fc58e.jpg\n",
              "...          ...             ...\n",
              "2356  93e591cb23  93e591cb23.jpg\n",
              "2357  68a603b39d  68a603b39d.jpg\n",
              "2358  4f472510f3  4f472510f3.jpg\n",
              "2359  d6884444ae  d6884444ae.jpg\n",
              "2360  c0fa7df5de  c0fa7df5de.jpg\n",
              "\n",
              "[2361 rows x 2 columns]"
            ]
          },
          "metadata": {
            "tags": []
          },
          "execution_count": 130
        }
      ]
    },
    {
      "cell_type": "code",
      "metadata": {
        "id": "bNpB-HeMkgmd",
        "outputId": "bda7debe-87ef-479f-cd15-cf61e994cafd",
        "colab": {
          "base_uri": "https://localhost:8080/"
        }
      },
      "source": [
        "test_img = []\r\n",
        "for img_name in tqdm(test['image'].values): \r\n",
        "    test_img.append(cv2.resize(cv2.imread(TEST_PATH + img_name),(224,224)))"
      ],
      "execution_count": 131,
      "outputs": [
        {
          "output_type": "stream",
          "text": [
            "100%|██████████| 2361/2361 [00:06<00:00, 339.06it/s]\n"
          ],
          "name": "stderr"
        }
      ]
    },
    {
      "cell_type": "code",
      "metadata": {
        "id": "XnMnAtU7w1Xq",
        "outputId": "5346e7ac-d65d-429d-f2c4-a832b74b6317",
        "colab": {
          "base_uri": "https://localhost:8080/"
        }
      },
      "source": [
        "len(test_img)"
      ],
      "execution_count": 132,
      "outputs": [
        {
          "output_type": "execute_result",
          "data": {
            "text/plain": [
              "2361"
            ]
          },
          "metadata": {
            "tags": []
          },
          "execution_count": 132
        }
      ]
    },
    {
      "cell_type": "code",
      "metadata": {
        "id": "_zA7yS3GpTgB"
      },
      "source": [
        "test['image'][1]\r\n",
        "t=cv2.imread(TEST_PATH + test['image'][1])\r\n",
        "p=cv2.resize(t,(224,224))"
      ],
      "execution_count": 133,
      "outputs": []
    },
    {
      "cell_type": "code",
      "metadata": {
        "id": "7il4lUYrsAUj"
      },
      "source": [
        "u_test = np.array(test_img, np.float32) / 255\r\n"
      ],
      "execution_count": 135,
      "outputs": []
    },
    {
      "cell_type": "code",
      "metadata": {
        "id": "aOLc1EXnyApE",
        "outputId": "88c0b520-1378-4c05-b78f-1aef97c8a993",
        "colab": {
          "base_uri": "https://localhost:8080/"
        }
      },
      "source": [
        "len(u_test)"
      ],
      "execution_count": 136,
      "outputs": [
        {
          "output_type": "execute_result",
          "data": {
            "text/plain": [
              "2361"
            ]
          },
          "metadata": {
            "tags": []
          },
          "execution_count": 136
        }
      ]
    },
    {
      "cell_type": "code",
      "metadata": {
        "id": "mIF_xJ2W2MdZ",
        "outputId": "eb3541e8-67c5-4bb8-c1e3-329856a36a71",
        "colab": {
          "base_uri": "https://localhost:8080/"
        }
      },
      "source": [
        "u_test.shape"
      ],
      "execution_count": 137,
      "outputs": [
        {
          "output_type": "execute_result",
          "data": {
            "text/plain": [
              "(2361, 224, 224, 3)"
            ]
          },
          "metadata": {
            "tags": []
          },
          "execution_count": 137
        }
      ]
    },
    {
      "cell_type": "code",
      "metadata": {
        "id": "wLZ0-wo5thZ8"
      },
      "source": [
        "#p_test = np.array(p, np.float32) / 255\r\n",
        "#i_test=np.expand_dims(u_test,axis=0)"
      ],
      "execution_count": 138,
      "outputs": []
    },
    {
      "cell_type": "code",
      "metadata": {
        "id": "2sAeh6m0qTBC"
      },
      "source": [
        "predictions = model.predict(u_test)"
      ],
      "execution_count": 139,
      "outputs": []
    },
    {
      "cell_type": "code",
      "metadata": {
        "id": "MCW0ji1wReGt"
      },
      "source": [
        "predictions = np.argmax(predictions, axis=1)"
      ],
      "execution_count": 141,
      "outputs": []
    },
    {
      "cell_type": "code",
      "metadata": {
        "id": "uL0icovrwtvw",
        "outputId": "4ddc0bc8-1eed-4266-861d-8906b03f2230",
        "colab": {
          "base_uri": "https://localhost:8080/"
        }
      },
      "source": [
        "predictions"
      ],
      "execution_count": 142,
      "outputs": [
        {
          "output_type": "execute_result",
          "data": {
            "text/plain": [
              "array([ 0,  1, 23, ..., 25, 23, 23])"
            ]
          },
          "metadata": {
            "tags": []
          },
          "execution_count": 142
        }
      ]
    },
    {
      "cell_type": "code",
      "metadata": {
        "id": "zOOBN4NPzqao",
        "outputId": "cc3caf5a-30d0-46f0-b238-5c17784f51d2",
        "colab": {
          "base_uri": "https://localhost:8080/"
        }
      },
      "source": [
        "len(predictions)"
      ],
      "execution_count": 143,
      "outputs": [
        {
          "output_type": "execute_result",
          "data": {
            "text/plain": [
              "2361"
            ]
          },
          "metadata": {
            "tags": []
          },
          "execution_count": 143
        }
      ]
    },
    {
      "cell_type": "code",
      "metadata": {
        "id": "nsXQV4LFypig",
        "outputId": "a6858b21-3f70-4956-c9c7-dd877c7e19ae",
        "colab": {
          "base_uri": "https://localhost:8080/"
        }
      },
      "source": [
        "dit=train_generator.class_indices\r\n",
        "dit"
      ],
      "execution_count": 144,
      "outputs": [
        {
          "output_type": "execute_result",
          "data": {
            "text/plain": [
              "{'agkistrodon-contortrix': 0,\n",
              " 'agkistrodon-piscivorus': 1,\n",
              " 'coluber-constrictor': 2,\n",
              " 'crotalus-atrox': 3,\n",
              " 'crotalus-horridus': 4,\n",
              " 'crotalus-ruber': 5,\n",
              " 'crotalus-scutulatus': 6,\n",
              " 'crotalus-viridis': 7,\n",
              " 'diadophis-punctatus': 8,\n",
              " 'haldea-striatula': 9,\n",
              " 'heterodon-platirhinos': 10,\n",
              " 'lampropeltis-californiae': 11,\n",
              " 'lampropeltis-triangulum': 12,\n",
              " 'masticophis-flagellum': 13,\n",
              " 'natrix-natrix': 14,\n",
              " 'nerodia-erythrogaster': 15,\n",
              " 'nerodia-fasciata': 16,\n",
              " 'nerodia-rhombifer': 17,\n",
              " 'nerodia-sipedon': 18,\n",
              " 'opheodrys-aestivus': 19,\n",
              " 'pantherophis-alleghaniensis': 20,\n",
              " 'pantherophis-emoryi': 21,\n",
              " 'pantherophis-guttatus': 22,\n",
              " 'pantherophis-obsoletus': 23,\n",
              " 'pantherophis-spiloides': 24,\n",
              " 'pantherophis-vulpinus': 25,\n",
              " 'pituophis-catenifer': 26,\n",
              " 'rhinocheilus-lecontei': 27,\n",
              " 'storeria-dekayi': 28,\n",
              " 'storeria-occipitomaculata': 29,\n",
              " 'thamnophis-elegans': 30,\n",
              " 'thamnophis-marcianus': 31,\n",
              " 'thamnophis-proximus': 32,\n",
              " 'thamnophis-radix': 33,\n",
              " 'thamnophis-sirtalis': 34}"
            ]
          },
          "metadata": {
            "tags": []
          },
          "execution_count": 144
        }
      ]
    },
    {
      "cell_type": "code",
      "metadata": {
        "id": "UOQP47rEzDtd",
        "outputId": "f74ddbbf-bf10-44ee-f7d8-9f5cd876b56d",
        "colab": {
          "base_uri": "https://localhost:8080/"
        }
      },
      "source": [
        "result=[]\r\n",
        "for i in predictions:\r\n",
        "  for j in dit:\r\n",
        "    #print(dit[j])\r\n",
        "    if i == dit[j]:\r\n",
        "      result.append(j)\r\n",
        "print(result)"
      ],
      "execution_count": 150,
      "outputs": [
        {
          "output_type": "stream",
          "text": [
            "['agkistrodon-contortrix', 'agkistrodon-piscivorus', 'pantherophis-obsoletus', 'storeria-dekayi', 'natrix-natrix', 'lampropeltis-californiae', 'pantherophis-alleghaniensis', 'thamnophis-sirtalis', 'pantherophis-obsoletus', 'agkistrodon-piscivorus', 'agkistrodon-contortrix', 'pantherophis-alleghaniensis', 'crotalus-scutulatus', 'thamnophis-sirtalis', 'lampropeltis-californiae', 'nerodia-rhombifer', 'pituophis-catenifer', 'crotalus-atrox', 'heterodon-platirhinos', 'crotalus-atrox', 'crotalus-horridus', 'storeria-dekayi', 'crotalus-atrox', 'haldea-striatula', 'pantherophis-obsoletus', 'crotalus-atrox', 'thamnophis-radix', 'pantherophis-obsoletus', 'storeria-dekayi', 'crotalus-atrox', 'pantherophis-emoryi', 'pantherophis-obsoletus', 'thamnophis-sirtalis', 'nerodia-erythrogaster', 'thamnophis-sirtalis', 'pantherophis-alleghaniensis', 'rhinocheilus-lecontei', 'haldea-striatula', 'storeria-dekayi', 'crotalus-horridus', 'nerodia-erythrogaster', 'pantherophis-obsoletus', 'coluber-constrictor', 'crotalus-atrox', 'agkistrodon-contortrix', 'agkistrodon-contortrix', 'agkistrodon-contortrix', 'agkistrodon-piscivorus', 'pantherophis-obsoletus', 'storeria-dekayi', 'storeria-dekayi', 'storeria-dekayi', 'pantherophis-obsoletus', 'heterodon-platirhinos', 'crotalus-horridus', 'agkistrodon-contortrix', 'nerodia-sipedon', 'thamnophis-sirtalis', 'nerodia-rhombifer', 'lampropeltis-triangulum', 'storeria-dekayi', 'thamnophis-radix', 'lampropeltis-californiae', 'opheodrys-aestivus', 'agkistrodon-piscivorus', 'thamnophis-proximus', 'thamnophis-elegans', 'pituophis-catenifer', 'diadophis-punctatus', 'agkistrodon-contortrix', 'thamnophis-proximus', 'thamnophis-proximus', 'lampropeltis-triangulum', 'lampropeltis-triangulum', 'opheodrys-aestivus', 'diadophis-punctatus', 'nerodia-erythrogaster', 'crotalus-atrox', 'thamnophis-sirtalis', 'diadophis-punctatus', 'lampropeltis-californiae', 'thamnophis-proximus', 'thamnophis-radix', 'thamnophis-radix', 'pantherophis-obsoletus', 'diadophis-punctatus', 'thamnophis-radix', 'storeria-occipitomaculata', 'thamnophis-proximus', 'lampropeltis-triangulum', 'pantherophis-obsoletus', 'nerodia-rhombifer', 'opheodrys-aestivus', 'storeria-dekayi', 'lampropeltis-triangulum', 'agkistrodon-contortrix', 'thamnophis-proximus', 'thamnophis-sirtalis', 'pituophis-catenifer', 'thamnophis-sirtalis', 'rhinocheilus-lecontei', 'agkistrodon-contortrix', 'storeria-dekayi', 'pantherophis-obsoletus', 'storeria-dekayi', 'crotalus-horridus', 'diadophis-punctatus', 'lampropeltis-triangulum', 'pantherophis-obsoletus', 'coluber-constrictor', 'nerodia-erythrogaster', 'storeria-dekayi', 'thamnophis-sirtalis', 'crotalus-scutulatus', 'diadophis-punctatus', 'pantherophis-obsoletus', 'pantherophis-alleghaniensis', 'crotalus-atrox', 'pantherophis-obsoletus', 'pantherophis-alleghaniensis', 'crotalus-atrox', 'thamnophis-sirtalis', 'lampropeltis-triangulum', 'crotalus-atrox', 'crotalus-atrox', 'pantherophis-obsoletus', 'storeria-dekayi', 'pantherophis-obsoletus', 'nerodia-sipedon', 'storeria-dekayi', 'crotalus-atrox', 'storeria-dekayi', 'nerodia-sipedon', 'diadophis-punctatus', 'thamnophis-radix', 'thamnophis-sirtalis', 'diadophis-punctatus', 'crotalus-ruber', 'pituophis-catenifer', 'crotalus-atrox', 'opheodrys-aestivus', 'pantherophis-obsoletus', 'agkistrodon-piscivorus', 'storeria-dekayi', 'crotalus-atrox', 'nerodia-fasciata', 'coluber-constrictor', 'thamnophis-radix', 'coluber-constrictor', 'storeria-dekayi', 'thamnophis-radix', 'nerodia-erythrogaster', 'pantherophis-alleghaniensis', 'opheodrys-aestivus', 'storeria-dekayi', 'pantherophis-vulpinus', 'agkistrodon-piscivorus', 'lampropeltis-triangulum', 'agkistrodon-contortrix', 'storeria-dekayi', 'coluber-constrictor', 'diadophis-punctatus', 'agkistrodon-contortrix', 'agkistrodon-contortrix', 'crotalus-atrox', 'crotalus-atrox', 'coluber-constrictor', 'lampropeltis-californiae', 'pantherophis-obsoletus', 'storeria-dekayi', 'haldea-striatula', 'crotalus-ruber', 'pantherophis-obsoletus', 'pantherophis-alleghaniensis', 'storeria-dekayi', 'heterodon-platirhinos', 'storeria-occipitomaculata', 'storeria-dekayi', 'agkistrodon-contortrix', 'thamnophis-sirtalis', 'storeria-dekayi', 'pantherophis-obsoletus', 'pantherophis-obsoletus', 'crotalus-scutulatus', 'crotalus-horridus', 'pantherophis-obsoletus', 'pantherophis-alleghaniensis', 'coluber-constrictor', 'thamnophis-proximus', 'lampropeltis-californiae', 'thamnophis-proximus', 'thamnophis-proximus', 'thamnophis-sirtalis', 'storeria-dekayi', 'thamnophis-marcianus', 'lampropeltis-triangulum', 'thamnophis-sirtalis', 'crotalus-atrox', 'coluber-constrictor', 'storeria-dekayi', 'storeria-dekayi', 'opheodrys-aestivus', 'nerodia-sipedon', 'pantherophis-obsoletus', 'crotalus-atrox', 'storeria-dekayi', 'crotalus-atrox', 'opheodrys-aestivus', 'storeria-dekayi', 'crotalus-horridus', 'thamnophis-radix', 'pantherophis-obsoletus', 'storeria-dekayi', 'pantherophis-obsoletus', 'haldea-striatula', 'pantherophis-obsoletus', 'storeria-dekayi', 'thamnophis-radix', 'storeria-dekayi', 'pantherophis-alleghaniensis', 'lampropeltis-triangulum', 'thamnophis-proximus', 'pantherophis-spiloides', 'storeria-dekayi', 'diadophis-punctatus', 'pituophis-catenifer', 'crotalus-horridus', 'storeria-dekayi', 'thamnophis-radix', 'agkistrodon-piscivorus', 'coluber-constrictor', 'opheodrys-aestivus', 'pantherophis-obsoletus', 'haldea-striatula', 'thamnophis-sirtalis', 'lampropeltis-californiae', 'pantherophis-obsoletus', 'storeria-dekayi', 'crotalus-atrox', 'pantherophis-obsoletus', 'diadophis-punctatus', 'diadophis-punctatus', 'pantherophis-alleghaniensis', 'pantherophis-obsoletus', 'storeria-dekayi', 'crotalus-ruber', 'pituophis-catenifer', 'opheodrys-aestivus', 'storeria-dekayi', 'diadophis-punctatus', 'storeria-occipitomaculata', 'agkistrodon-piscivorus', 'agkistrodon-contortrix', 'storeria-dekayi', 'lampropeltis-californiae', 'agkistrodon-contortrix', 'storeria-dekayi', 'diadophis-punctatus', 'storeria-occipitomaculata', 'lampropeltis-californiae', 'coluber-constrictor', 'coluber-constrictor', 'thamnophis-sirtalis', 'crotalus-horridus', 'crotalus-ruber', 'pantherophis-alleghaniensis', 'thamnophis-radix', 'thamnophis-elegans', 'storeria-dekayi', 'lampropeltis-triangulum', 'agkistrodon-contortrix', 'pituophis-catenifer', 'crotalus-atrox', 'nerodia-sipedon', 'thamnophis-radix', 'coluber-constrictor', 'thamnophis-proximus', 'thamnophis-sirtalis', 'nerodia-sipedon', 'storeria-dekayi', 'pantherophis-obsoletus', 'crotalus-scutulatus', 'pantherophis-obsoletus', 'lampropeltis-californiae', 'crotalus-scutulatus', 'pantherophis-obsoletus', 'crotalus-atrox', 'lampropeltis-californiae', 'agkistrodon-piscivorus', 'thamnophis-radix', 'storeria-occipitomaculata', 'storeria-dekayi', 'coluber-constrictor', 'nerodia-sipedon', 'pantherophis-alleghaniensis', 'storeria-dekayi', 'lampropeltis-californiae', 'storeria-dekayi', 'natrix-natrix', 'coluber-constrictor', 'coluber-constrictor', 'haldea-striatula', 'haldea-striatula', 'coluber-constrictor', 'lampropeltis-californiae', 'storeria-dekayi', 'crotalus-atrox', 'storeria-dekayi', 'pantherophis-obsoletus', 'pantherophis-spiloides', 'crotalus-atrox', 'agkistrodon-contortrix', 'lampropeltis-triangulum', 'opheodrys-aestivus', 'thamnophis-marcianus', 'coluber-constrictor', 'coluber-constrictor', 'nerodia-sipedon', 'coluber-constrictor', 'lampropeltis-californiae', 'thamnophis-marcianus', 'storeria-dekayi', 'heterodon-platirhinos', 'thamnophis-sirtalis', 'storeria-dekayi', 'storeria-dekayi', 'thamnophis-proximus', 'storeria-dekayi', 'crotalus-horridus', 'nerodia-erythrogaster', 'thamnophis-sirtalis', 'pantherophis-obsoletus', 'pantherophis-obsoletus', 'pantherophis-obsoletus', 'storeria-dekayi', 'lampropeltis-californiae', 'pituophis-catenifer', 'crotalus-scutulatus', 'pantherophis-obsoletus', 'nerodia-erythrogaster', 'agkistrodon-contortrix', 'opheodrys-aestivus', 'thamnophis-proximus', 'lampropeltis-triangulum', 'nerodia-sipedon', 'diadophis-punctatus', 'storeria-dekayi', 'crotalus-atrox', 'pantherophis-spiloides', 'lampropeltis-californiae', 'opheodrys-aestivus', 'thamnophis-radix', 'storeria-dekayi', 'pantherophis-obsoletus', 'storeria-dekayi', 'crotalus-atrox', 'pantherophis-spiloides', 'storeria-occipitomaculata', 'pantherophis-obsoletus', 'diadophis-punctatus', 'nerodia-sipedon', 'diadophis-punctatus', 'pantherophis-alleghaniensis', 'haldea-striatula', 'agkistrodon-contortrix', 'heterodon-platirhinos', 'crotalus-atrox', 'pantherophis-obsoletus', 'lampropeltis-triangulum', 'storeria-dekayi', 'diadophis-punctatus', 'crotalus-atrox', 'crotalus-atrox', 'lampropeltis-triangulum', 'coluber-constrictor', 'thamnophis-sirtalis', 'thamnophis-radix', 'coluber-constrictor', 'crotalus-atrox', 'thamnophis-elegans', 'pantherophis-obsoletus', 'diadophis-punctatus', 'pantherophis-emoryi', 'coluber-constrictor', 'diadophis-punctatus', 'storeria-dekayi', 'storeria-occipitomaculata', 'pantherophis-obsoletus', 'nerodia-sipedon', 'diadophis-punctatus', 'lampropeltis-triangulum', 'pantherophis-obsoletus', 'thamnophis-sirtalis', 'agkistrodon-contortrix', 'opheodrys-aestivus', 'storeria-dekayi', 'diadophis-punctatus', 'agkistrodon-piscivorus', 'storeria-dekayi', 'crotalus-atrox', 'pantherophis-alleghaniensis', 'agkistrodon-piscivorus', 'lampropeltis-triangulum', 'thamnophis-sirtalis', 'thamnophis-sirtalis', 'diadophis-punctatus', 'pituophis-catenifer', 'storeria-dekayi', 'thamnophis-proximus', 'nerodia-erythrogaster', 'coluber-constrictor', 'crotalus-viridis', 'haldea-striatula', 'diadophis-punctatus', 'agkistrodon-contortrix', 'pantherophis-obsoletus', 'coluber-constrictor', 'storeria-dekayi', 'thamnophis-sirtalis', 'diadophis-punctatus', 'thamnophis-sirtalis', 'lampropeltis-triangulum', 'thamnophis-proximus', 'crotalus-atrox', 'storeria-dekayi', 'pantherophis-obsoletus', 'storeria-dekayi', 'agkistrodon-contortrix', 'diadophis-punctatus', 'nerodia-erythrogaster', 'haldea-striatula', 'storeria-dekayi', 'opheodrys-aestivus', 'coluber-constrictor', 'pantherophis-obsoletus', 'heterodon-platirhinos', 'pantherophis-alleghaniensis', 'nerodia-sipedon', 'nerodia-rhombifer', 'lampropeltis-triangulum', 'opheodrys-aestivus', 'agkistrodon-contortrix', 'nerodia-erythrogaster', 'thamnophis-marcianus', 'nerodia-sipedon', 'storeria-dekayi', 'storeria-dekayi', 'haldea-striatula', 'diadophis-punctatus', 'storeria-dekayi', 'thamnophis-sirtalis', 'coluber-constrictor', 'crotalus-viridis', 'storeria-dekayi', 'crotalus-atrox', 'agkistrodon-piscivorus', 'pantherophis-obsoletus', 'pantherophis-obsoletus', 'crotalus-horridus', 'lampropeltis-californiae', 'crotalus-ruber', 'diadophis-punctatus', 'storeria-dekayi', 'storeria-dekayi', 'heterodon-platirhinos', 'storeria-dekayi', 'lampropeltis-triangulum', 'agkistrodon-contortrix', 'storeria-dekayi', 'agkistrodon-contortrix', 'lampropeltis-triangulum', 'crotalus-atrox', 'thamnophis-sirtalis', 'crotalus-atrox', 'pantherophis-alleghaniensis', 'lampropeltis-triangulum', 'thamnophis-radix', 'storeria-dekayi', 'coluber-constrictor', 'lampropeltis-californiae', 'storeria-dekayi', 'agkistrodon-contortrix', 'agkistrodon-contortrix', 'agkistrodon-contortrix', 'thamnophis-proximus', 'pantherophis-obsoletus', 'diadophis-punctatus', 'lampropeltis-californiae', 'thamnophis-marcianus', 'storeria-dekayi', 'crotalus-viridis', 'coluber-constrictor', 'heterodon-platirhinos', 'storeria-dekayi', 'lampropeltis-triangulum', 'crotalus-atrox', 'thamnophis-radix', 'thamnophis-radix', 'storeria-dekayi', 'thamnophis-proximus', 'thamnophis-sirtalis', 'thamnophis-sirtalis', 'lampropeltis-californiae', 'thamnophis-sirtalis', 'crotalus-atrox', 'thamnophis-proximus', 'agkistrodon-piscivorus', 'pantherophis-obsoletus', 'crotalus-atrox', 'diadophis-punctatus', 'nerodia-sipedon', 'thamnophis-radix', 'lampropeltis-triangulum', 'thamnophis-sirtalis', 'pantherophis-alleghaniensis', 'storeria-dekayi', 'crotalus-atrox', 'nerodia-sipedon', 'pantherophis-obsoletus', 'crotalus-atrox', 'thamnophis-sirtalis', 'opheodrys-aestivus', 'pantherophis-obsoletus', 'crotalus-horridus', 'thamnophis-sirtalis', 'pantherophis-obsoletus', 'pantherophis-obsoletus', 'pantherophis-obsoletus', 'thamnophis-sirtalis', 'thamnophis-radix', 'thamnophis-proximus', 'thamnophis-elegans', 'thamnophis-sirtalis', 'pituophis-catenifer', 'natrix-natrix', 'coluber-constrictor', 'storeria-dekayi', 'haldea-striatula', 'pantherophis-spiloides', 'storeria-dekayi', 'storeria-dekayi', 'nerodia-sipedon', 'pantherophis-alleghaniensis', 'haldea-striatula', 'pantherophis-obsoletus', 'storeria-dekayi', 'pantherophis-alleghaniensis', 'thamnophis-sirtalis', 'diadophis-punctatus', 'diadophis-punctatus', 'thamnophis-proximus', 'nerodia-sipedon', 'diadophis-punctatus', 'storeria-occipitomaculata', 'agkistrodon-contortrix', 'thamnophis-sirtalis', 'diadophis-punctatus', 'thamnophis-radix', 'nerodia-erythrogaster', 'pituophis-catenifer', 'storeria-occipitomaculata', 'pantherophis-obsoletus', 'crotalus-atrox', 'coluber-constrictor', 'haldea-striatula', 'pantherophis-obsoletus', 'pantherophis-obsoletus', 'agkistrodon-piscivorus', 'lampropeltis-triangulum', 'thamnophis-marcianus', 'thamnophis-sirtalis', 'coluber-constrictor', 'thamnophis-proximus', 'agkistrodon-contortrix', 'thamnophis-marcianus', 'nerodia-sipedon', 'nerodia-erythrogaster', 'crotalus-scutulatus', 'thamnophis-radix', 'pantherophis-obsoletus', 'lampropeltis-triangulum', 'nerodia-erythrogaster', 'diadophis-punctatus', 'storeria-dekayi', 'pantherophis-alleghaniensis', 'nerodia-erythrogaster', 'diadophis-punctatus', 'crotalus-atrox', 'storeria-dekayi', 'opheodrys-aestivus', 'lampropeltis-californiae', 'crotalus-atrox', 'opheodrys-aestivus', 'agkistrodon-contortrix', 'thamnophis-sirtalis', 'pantherophis-obsoletus', 'crotalus-atrox', 'thamnophis-sirtalis', 'pantherophis-spiloides', 'crotalus-ruber', 'crotalus-viridis', 'pantherophis-spiloides', 'pantherophis-obsoletus', 'coluber-constrictor', 'pantherophis-alleghaniensis', 'storeria-dekayi', 'thamnophis-sirtalis', 'pantherophis-vulpinus', 'storeria-dekayi', 'storeria-dekayi', 'pantherophis-alleghaniensis', 'lampropeltis-californiae', 'thamnophis-proximus', 'diadophis-punctatus', 'opheodrys-aestivus', 'thamnophis-sirtalis', 'coluber-constrictor', 'pantherophis-obsoletus', 'thamnophis-radix', 'thamnophis-sirtalis', 'thamnophis-sirtalis', 'thamnophis-proximus', 'thamnophis-proximus', 'coluber-constrictor', 'agkistrodon-contortrix', 'crotalus-atrox', 'pituophis-catenifer', 'thamnophis-marcianus', 'diadophis-punctatus', 'pituophis-catenifer', 'lampropeltis-californiae', 'coluber-constrictor', 'nerodia-sipedon', 'storeria-dekayi', 'crotalus-scutulatus', 'storeria-dekayi', 'crotalus-atrox', 'pituophis-catenifer', 'natrix-natrix', 'lampropeltis-triangulum', 'coluber-constrictor', 'lampropeltis-triangulum', 'thamnophis-radix', 'crotalus-atrox', 'haldea-striatula', 'pituophis-catenifer', 'lampropeltis-triangulum', 'crotalus-atrox', 'thamnophis-radix', 'opheodrys-aestivus', 'crotalus-atrox', 'thamnophis-sirtalis', 'nerodia-sipedon', 'pantherophis-obsoletus', 'crotalus-atrox', 'diadophis-punctatus', 'nerodia-erythrogaster', 'storeria-occipitomaculata', 'crotalus-atrox', 'thamnophis-sirtalis', 'pantherophis-obsoletus', 'crotalus-viridis', 'nerodia-sipedon', 'diadophis-punctatus', 'thamnophis-sirtalis', 'lampropeltis-triangulum', 'crotalus-atrox', 'storeria-dekayi', 'thamnophis-sirtalis', 'coluber-constrictor', 'opheodrys-aestivus', 'diadophis-punctatus', 'nerodia-sipedon', 'pantherophis-obsoletus', 'diadophis-punctatus', 'agkistrodon-contortrix', 'agkistrodon-contortrix', 'storeria-dekayi', 'agkistrodon-contortrix', 'diadophis-punctatus', 'lampropeltis-californiae', 'crotalus-atrox', 'agkistrodon-contortrix', 'crotalus-atrox', 'pantherophis-obsoletus', 'haldea-striatula', 'thamnophis-sirtalis', 'pantherophis-obsoletus', 'pantherophis-obsoletus', 'thamnophis-sirtalis', 'thamnophis-sirtalis', 'crotalus-atrox', 'lampropeltis-californiae', 'coluber-constrictor', 'storeria-dekayi', 'heterodon-platirhinos', 'pantherophis-obsoletus', 'rhinocheilus-lecontei', 'crotalus-atrox', 'pantherophis-obsoletus', 'pantherophis-spiloides', 'pantherophis-obsoletus', 'rhinocheilus-lecontei', 'pantherophis-obsoletus', 'storeria-occipitomaculata', 'pantherophis-obsoletus', 'pantherophis-obsoletus', 'thamnophis-sirtalis', 'crotalus-atrox', 'storeria-dekayi', 'pantherophis-obsoletus', 'storeria-dekayi', 'opheodrys-aestivus', 'lampropeltis-triangulum', 'agkistrodon-contortrix', 'pantherophis-obsoletus', 'crotalus-horridus', 'nerodia-sipedon', 'crotalus-atrox', 'pantherophis-obsoletus', 'thamnophis-sirtalis', 'storeria-dekayi', 'thamnophis-proximus', 'crotalus-horridus', 'thamnophis-radix', 'coluber-constrictor', 'haldea-striatula', 'haldea-striatula', 'diadophis-punctatus', 'nerodia-erythrogaster', 'thamnophis-proximus', 'agkistrodon-piscivorus', 'pantherophis-obsoletus', 'lampropeltis-californiae', 'agkistrodon-contortrix', 'crotalus-atrox', 'thamnophis-proximus', 'storeria-dekayi', 'thamnophis-proximus', 'crotalus-atrox', 'pantherophis-obsoletus', 'lampropeltis-triangulum', 'rhinocheilus-lecontei', 'haldea-striatula', 'thamnophis-proximus', 'agkistrodon-contortrix', 'pantherophis-obsoletus', 'opheodrys-aestivus', 'pantherophis-obsoletus', 'pantherophis-alleghaniensis', 'agkistrodon-piscivorus', 'lampropeltis-californiae', 'lampropeltis-californiae', 'pantherophis-alleghaniensis', 'storeria-dekayi', 'thamnophis-sirtalis', 'thamnophis-sirtalis', 'crotalus-scutulatus', 'pantherophis-alleghaniensis', 'pituophis-catenifer', 'nerodia-fasciata', 'thamnophis-sirtalis', 'lampropeltis-triangulum', 'agkistrodon-contortrix', 'nerodia-sipedon', 'pantherophis-obsoletus', 'crotalus-scutulatus', 'crotalus-viridis', 'storeria-dekayi', 'storeria-dekayi', 'thamnophis-sirtalis', 'pantherophis-obsoletus', 'agkistrodon-contortrix', 'storeria-dekayi', 'nerodia-sipedon', 'thamnophis-sirtalis', 'diadophis-punctatus', 'pantherophis-spiloides', 'pantherophis-obsoletus', 'lampropeltis-californiae', 'thamnophis-radix', 'crotalus-atrox', 'rhinocheilus-lecontei', 'crotalus-atrox', 'storeria-dekayi', 'diadophis-punctatus', 'pantherophis-obsoletus', 'lampropeltis-californiae', 'pituophis-catenifer', 'storeria-dekayi', 'storeria-dekayi', 'crotalus-atrox', 'coluber-constrictor', 'haldea-striatula', 'haldea-striatula', 'thamnophis-elegans', 'diadophis-punctatus', 'lampropeltis-californiae', 'lampropeltis-triangulum', 'natrix-natrix', 'crotalus-atrox', 'lampropeltis-californiae', 'pantherophis-alleghaniensis', 'opheodrys-aestivus', 'thamnophis-proximus', 'pantherophis-obsoletus', 'storeria-dekayi', 'crotalus-atrox', 'storeria-dekayi', 'pituophis-catenifer', 'coluber-constrictor', 'rhinocheilus-lecontei', 'agkistrodon-piscivorus', 'pantherophis-obsoletus', 'crotalus-atrox', 'thamnophis-radix', 'agkistrodon-contortrix', 'diadophis-punctatus', 'storeria-dekayi', 'thamnophis-sirtalis', 'lampropeltis-californiae', 'nerodia-sipedon', 'thamnophis-sirtalis', 'diadophis-punctatus', 'storeria-dekayi', 'pantherophis-obsoletus', 'storeria-dekayi', 'crotalus-atrox', 'pituophis-catenifer', 'diadophis-punctatus', 'pantherophis-emoryi', 'storeria-dekayi', 'thamnophis-sirtalis', 'rhinocheilus-lecontei', 'haldea-striatula', 'lampropeltis-triangulum', 'storeria-occipitomaculata', 'opheodrys-aestivus', 'agkistrodon-contortrix', 'crotalus-horridus', 'crotalus-atrox', 'pantherophis-obsoletus', 'nerodia-sipedon', 'opheodrys-aestivus', 'storeria-dekayi', 'lampropeltis-triangulum', 'haldea-striatula', 'pantherophis-obsoletus', 'nerodia-erythrogaster', 'crotalus-atrox', 'crotalus-atrox', 'storeria-dekayi', 'pantherophis-obsoletus', 'heterodon-platirhinos', 'pantherophis-alleghaniensis', 'diadophis-punctatus', 'storeria-dekayi', 'thamnophis-radix', 'coluber-constrictor', 'storeria-dekayi', 'storeria-dekayi', 'pantherophis-alleghaniensis', 'opheodrys-aestivus', 'pantherophis-obsoletus', 'pantherophis-obsoletus', 'pituophis-catenifer', 'thamnophis-radix', 'crotalus-atrox', 'storeria-dekayi', 'storeria-dekayi', 'diadophis-punctatus', 'haldea-striatula', 'coluber-constrictor', 'pantherophis-alleghaniensis', 'storeria-dekayi', 'crotalus-horridus', 'thamnophis-marcianus', 'haldea-striatula', 'haldea-striatula', 'crotalus-atrox', 'pantherophis-obsoletus', 'crotalus-atrox', 'storeria-dekayi', 'crotalus-viridis', 'agkistrodon-contortrix', 'opheodrys-aestivus', 'crotalus-viridis', 'storeria-dekayi', 'crotalus-atrox', 'agkistrodon-piscivorus', 'nerodia-rhombifer', 'pantherophis-obsoletus', 'nerodia-rhombifer', 'opheodrys-aestivus', 'pantherophis-obsoletus', 'lampropeltis-triangulum', 'lampropeltis-triangulum', 'crotalus-atrox', 'crotalus-atrox', 'lampropeltis-triangulum', 'lampropeltis-californiae', 'thamnophis-sirtalis', 'opheodrys-aestivus', 'storeria-dekayi', 'storeria-dekayi', 'pantherophis-obsoletus', 'storeria-occipitomaculata', 'storeria-dekayi', 'crotalus-atrox', 'storeria-dekayi', 'storeria-dekayi', 'pituophis-catenifer', 'thamnophis-sirtalis', 'storeria-dekayi', 'lampropeltis-triangulum', 'diadophis-punctatus', 'pantherophis-obsoletus', 'pantherophis-obsoletus', 'diadophis-punctatus', 'agkistrodon-piscivorus', 'opheodrys-aestivus', 'pantherophis-alleghaniensis', 'opheodrys-aestivus', 'rhinocheilus-lecontei', 'diadophis-punctatus', 'lampropeltis-californiae', 'coluber-constrictor', 'thamnophis-sirtalis', 'pantherophis-obsoletus', 'agkistrodon-contortrix', 'lampropeltis-californiae', 'nerodia-sipedon', 'thamnophis-radix', 'opheodrys-aestivus', 'storeria-occipitomaculata', 'agkistrodon-contortrix', 'pantherophis-guttatus', 'thamnophis-sirtalis', 'agkistrodon-contortrix', 'lampropeltis-californiae', 'storeria-dekayi', 'storeria-dekayi', 'pantherophis-obsoletus', 'diadophis-punctatus', 'lampropeltis-californiae', 'pituophis-catenifer', 'diadophis-punctatus', 'storeria-dekayi', 'storeria-dekayi', 'nerodia-rhombifer', 'thamnophis-sirtalis', 'pantherophis-obsoletus', 'thamnophis-sirtalis', 'pantherophis-obsoletus', 'storeria-dekayi', 'pituophis-catenifer', 'storeria-dekayi', 'crotalus-horridus', 'thamnophis-sirtalis', 'thamnophis-proximus', 'storeria-dekayi', 'storeria-dekayi', 'crotalus-atrox', 'lampropeltis-triangulum', 'diadophis-punctatus', 'lampropeltis-triangulum', 'agkistrodon-piscivorus', 'diadophis-punctatus', 'crotalus-atrox', 'diadophis-punctatus', 'storeria-dekayi', 'lampropeltis-triangulum', 'pantherophis-spiloides', 'storeria-dekayi', 'crotalus-atrox', 'nerodia-erythrogaster', 'thamnophis-proximus', 'opheodrys-aestivus', 'agkistrodon-piscivorus', 'pantherophis-guttatus', 'crotalus-horridus', 'lampropeltis-californiae', 'thamnophis-sirtalis', 'diadophis-punctatus', 'storeria-dekayi', 'thamnophis-radix', 'coluber-constrictor', 'diadophis-punctatus', 'crotalus-atrox', 'thamnophis-proximus', 'diadophis-punctatus', 'pantherophis-obsoletus', 'opheodrys-aestivus', 'crotalus-atrox', 'pantherophis-obsoletus', 'thamnophis-proximus', 'pantherophis-obsoletus', 'agkistrodon-contortrix', 'diadophis-punctatus', 'natrix-natrix', 'opheodrys-aestivus', 'nerodia-sipedon', 'nerodia-sipedon', 'agkistrodon-contortrix', 'diadophis-punctatus', 'pantherophis-obsoletus', 'storeria-dekayi', 'crotalus-atrox', 'pantherophis-obsoletus', 'storeria-occipitomaculata', 'diadophis-punctatus', 'storeria-dekayi', 'thamnophis-marcianus', 'storeria-dekayi', 'thamnophis-sirtalis', 'coluber-constrictor', 'storeria-occipitomaculata', 'thamnophis-sirtalis', 'agkistrodon-contortrix', 'storeria-dekayi', 'lampropeltis-triangulum', 'crotalus-atrox', 'agkistrodon-contortrix', 'storeria-dekayi', 'storeria-occipitomaculata', 'storeria-dekayi', 'diadophis-punctatus', 'storeria-dekayi', 'thamnophis-proximus', 'agkistrodon-contortrix', 'thamnophis-radix', 'diadophis-punctatus', 'opheodrys-aestivus', 'crotalus-atrox', 'agkistrodon-contortrix', 'crotalus-atrox', 'thamnophis-radix', 'storeria-dekayi', 'pantherophis-obsoletus', 'crotalus-atrox', 'crotalus-atrox', 'thamnophis-radix', 'thamnophis-radix', 'storeria-dekayi', 'nerodia-rhombifer', 'lampropeltis-californiae', 'crotalus-atrox', 'storeria-dekayi', 'thamnophis-sirtalis', 'pantherophis-obsoletus', 'agkistrodon-contortrix', 'diadophis-punctatus', 'pituophis-catenifer', 'lampropeltis-californiae', 'lampropeltis-triangulum', 'diadophis-punctatus', 'crotalus-horridus', 'pituophis-catenifer', 'diadophis-punctatus', 'thamnophis-marcianus', 'pantherophis-obsoletus', 'storeria-dekayi', 'diadophis-punctatus', 'crotalus-atrox', 'crotalus-horridus', 'diadophis-punctatus', 'crotalus-atrox', 'thamnophis-proximus', 'pantherophis-obsoletus', 'pantherophis-obsoletus', 'thamnophis-proximus', 'lampropeltis-triangulum', 'agkistrodon-contortrix', 'storeria-dekayi', 'crotalus-atrox', 'nerodia-erythrogaster', 'agkistrodon-piscivorus', 'pantherophis-obsoletus', 'coluber-constrictor', 'storeria-dekayi', 'diadophis-punctatus', 'pantherophis-alleghaniensis', 'pantherophis-obsoletus', 'nerodia-rhombifer', 'thamnophis-radix', 'pantherophis-obsoletus', 'storeria-dekayi', 'storeria-occipitomaculata', 'pantherophis-obsoletus', 'storeria-dekayi', 'haldea-striatula', 'pantherophis-vulpinus', 'pantherophis-obsoletus', 'agkistrodon-piscivorus', 'opheodrys-aestivus', 'thamnophis-sirtalis', 'pantherophis-obsoletus', 'opheodrys-aestivus', 'agkistrodon-contortrix', 'lampropeltis-californiae', 'pantherophis-spiloides', 'pantherophis-obsoletus', 'pantherophis-alleghaniensis', 'diadophis-punctatus', 'nerodia-sipedon', 'pituophis-catenifer', 'crotalus-atrox', 'thamnophis-sirtalis', 'pantherophis-obsoletus', 'storeria-dekayi', 'thamnophis-elegans', 'lampropeltis-triangulum', 'storeria-occipitomaculata', 'thamnophis-sirtalis', 'lampropeltis-californiae', 'agkistrodon-contortrix', 'heterodon-platirhinos', 'lampropeltis-triangulum', 'rhinocheilus-lecontei', 'diadophis-punctatus', 'storeria-dekayi', 'agkistrodon-piscivorus', 'crotalus-atrox', 'pituophis-catenifer', 'thamnophis-proximus', 'storeria-dekayi', 'pantherophis-obsoletus', 'opheodrys-aestivus', 'crotalus-atrox', 'crotalus-atrox', 'storeria-dekayi', 'thamnophis-proximus', 'lampropeltis-californiae', 'pantherophis-alleghaniensis', 'nerodia-sipedon', 'masticophis-flagellum', 'heterodon-platirhinos', 'pituophis-catenifer', 'pantherophis-alleghaniensis', 'lampropeltis-californiae', 'lampropeltis-triangulum', 'lampropeltis-triangulum', 'pantherophis-vulpinus', 'crotalus-horridus', 'crotalus-horridus', 'coluber-constrictor', 'pantherophis-obsoletus', 'lampropeltis-triangulum', 'crotalus-atrox', 'pantherophis-obsoletus', 'diadophis-punctatus', 'diadophis-punctatus', 'pituophis-catenifer', 'diadophis-punctatus', 'crotalus-atrox', 'coluber-constrictor', 'pantherophis-alleghaniensis', 'pantherophis-obsoletus', 'storeria-dekayi', 'lampropeltis-californiae', 'nerodia-rhombifer', 'storeria-dekayi', 'storeria-dekayi', 'pantherophis-obsoletus', 'agkistrodon-contortrix', 'thamnophis-sirtalis', 'lampropeltis-californiae', 'storeria-dekayi', 'nerodia-sipedon', 'crotalus-atrox', 'storeria-dekayi', 'storeria-dekayi', 'diadophis-punctatus', 'coluber-constrictor', 'lampropeltis-triangulum', 'crotalus-horridus', 'thamnophis-proximus', 'nerodia-sipedon', 'pantherophis-vulpinus', 'storeria-dekayi', 'storeria-dekayi', 'opheodrys-aestivus', 'diadophis-punctatus', 'crotalus-atrox', 'thamnophis-sirtalis', 'opheodrys-aestivus', 'crotalus-atrox', 'thamnophis-proximus', 'pantherophis-obsoletus', 'thamnophis-proximus', 'storeria-dekayi', 'diadophis-punctatus', 'thamnophis-radix', 'thamnophis-sirtalis', 'pantherophis-obsoletus', 'crotalus-atrox', 'storeria-dekayi', 'lampropeltis-triangulum', 'diadophis-punctatus', 'storeria-dekayi', 'storeria-dekayi', 'storeria-dekayi', 'thamnophis-sirtalis', 'storeria-dekayi', 'storeria-dekayi', 'opheodrys-aestivus', 'coluber-constrictor', 'pantherophis-obsoletus', 'pantherophis-obsoletus', 'storeria-dekayi', 'thamnophis-proximus', 'storeria-occipitomaculata', 'pantherophis-obsoletus', 'thamnophis-sirtalis', 'nerodia-sipedon', 'agkistrodon-piscivorus', 'agkistrodon-contortrix', 'thamnophis-sirtalis', 'crotalus-horridus', 'pantherophis-obsoletus', 'crotalus-atrox', 'haldea-striatula', 'agkistrodon-contortrix', 'diadophis-punctatus', 'storeria-dekayi', 'thamnophis-radix', 'thamnophis-proximus', 'agkistrodon-contortrix', 'lampropeltis-triangulum', 'pantherophis-obsoletus', 'diadophis-punctatus', 'thamnophis-radix', 'thamnophis-radix', 'lampropeltis-californiae', 'coluber-constrictor', 'agkistrodon-contortrix', 'coluber-constrictor', 'pantherophis-alleghaniensis', 'pituophis-catenifer', 'crotalus-ruber', 'thamnophis-marcianus', 'crotalus-horridus', 'haldea-striatula', 'coluber-constrictor', 'nerodia-sipedon', 'lampropeltis-triangulum', 'thamnophis-sirtalis', 'lampropeltis-triangulum', 'coluber-constrictor', 'thamnophis-radix', 'thamnophis-elegans', 'pituophis-catenifer', 'lampropeltis-californiae', 'haldea-striatula', 'thamnophis-proximus', 'storeria-dekayi', 'crotalus-atrox', 'thamnophis-marcianus', 'thamnophis-sirtalis', 'storeria-occipitomaculata', 'lampropeltis-californiae', 'crotalus-scutulatus', 'storeria-dekayi', 'crotalus-horridus', 'diadophis-punctatus', 'crotalus-ruber', 'agkistrodon-contortrix', 'lampropeltis-triangulum', 'agkistrodon-contortrix', 'crotalus-atrox', 'opheodrys-aestivus', 'thamnophis-sirtalis', 'storeria-dekayi', 'thamnophis-proximus', 'thamnophis-sirtalis', 'opheodrys-aestivus', 'pantherophis-obsoletus', 'rhinocheilus-lecontei', 'pantherophis-spiloides', 'thamnophis-radix', 'storeria-dekayi', 'coluber-constrictor', 'pituophis-catenifer', 'lampropeltis-triangulum', 'lampropeltis-californiae', 'haldea-striatula', 'crotalus-atrox', 'coluber-constrictor', 'diadophis-punctatus', 'crotalus-viridis', 'storeria-dekayi', 'diadophis-punctatus', 'storeria-dekayi', 'pituophis-catenifer', 'thamnophis-radix', 'heterodon-platirhinos', 'thamnophis-proximus', 'pantherophis-alleghaniensis', 'nerodia-erythrogaster', 'diadophis-punctatus', 'pantherophis-vulpinus', 'diadophis-punctatus', 'diadophis-punctatus', 'coluber-constrictor', 'crotalus-scutulatus', 'crotalus-atrox', 'pantherophis-obsoletus', 'nerodia-sipedon', 'thamnophis-radix', 'thamnophis-marcianus', 'storeria-occipitomaculata', 'thamnophis-proximus', 'storeria-dekayi', 'storeria-dekayi', 'agkistrodon-piscivorus', 'storeria-dekayi', 'storeria-dekayi', 'thamnophis-sirtalis', 'pantherophis-alleghaniensis', 'nerodia-sipedon', 'crotalus-ruber', 'thamnophis-proximus', 'opheodrys-aestivus', 'pantherophis-emoryi', 'thamnophis-proximus', 'haldea-striatula', 'crotalus-horridus', 'agkistrodon-piscivorus', 'thamnophis-sirtalis', 'pantherophis-alleghaniensis', 'pituophis-catenifer', 'diadophis-punctatus', 'diadophis-punctatus', 'thamnophis-radix', 'haldea-striatula', 'diadophis-punctatus', 'pantherophis-alleghaniensis', 'lampropeltis-triangulum', 'pantherophis-obsoletus', 'agkistrodon-piscivorus', 'agkistrodon-contortrix', 'pituophis-catenifer', 'agkistrodon-piscivorus', 'coluber-constrictor', 'pantherophis-obsoletus', 'pantherophis-obsoletus', 'crotalus-atrox', 'haldea-striatula', 'thamnophis-sirtalis', 'nerodia-sipedon', 'agkistrodon-contortrix', 'thamnophis-sirtalis', 'thamnophis-radix', 'pantherophis-obsoletus', 'diadophis-punctatus', 'nerodia-erythrogaster', 'thamnophis-sirtalis', 'haldea-striatula', 'thamnophis-sirtalis', 'storeria-dekayi', 'diadophis-punctatus', 'storeria-dekayi', 'thamnophis-radix', 'crotalus-atrox', 'heterodon-platirhinos', 'thamnophis-sirtalis', 'pantherophis-obsoletus', 'masticophis-flagellum', 'crotalus-atrox', 'pituophis-catenifer', 'pantherophis-alleghaniensis', 'crotalus-atrox', 'coluber-constrictor', 'pantherophis-obsoletus', 'coluber-constrictor', 'storeria-dekayi', 'natrix-natrix', 'opheodrys-aestivus', 'lampropeltis-triangulum', 'diadophis-punctatus', 'storeria-dekayi', 'agkistrodon-contortrix', 'thamnophis-sirtalis', 'opheodrys-aestivus', 'pituophis-catenifer', 'lampropeltis-triangulum', 'diadophis-punctatus', 'diadophis-punctatus', 'diadophis-punctatus', 'thamnophis-sirtalis', 'coluber-constrictor', 'lampropeltis-californiae', 'pantherophis-alleghaniensis', 'diadophis-punctatus', 'coluber-constrictor', 'thamnophis-sirtalis', 'crotalus-atrox', 'crotalus-atrox', 'coluber-constrictor', 'haldea-striatula', 'pantherophis-obsoletus', 'pantherophis-obsoletus', 'thamnophis-sirtalis', 'nerodia-sipedon', 'diadophis-punctatus', 'thamnophis-radix', 'nerodia-sipedon', 'pantherophis-obsoletus', 'crotalus-atrox', 'thamnophis-proximus', 'thamnophis-proximus', 'storeria-dekayi', 'crotalus-atrox', 'pituophis-catenifer', 'rhinocheilus-lecontei', 'pantherophis-obsoletus', 'thamnophis-sirtalis', 'pantherophis-obsoletus', 'storeria-dekayi', 'agkistrodon-contortrix', 'haldea-striatula', 'storeria-occipitomaculata', 'lampropeltis-triangulum', 'nerodia-erythrogaster', 'nerodia-sipedon', 'crotalus-scutulatus', 'lampropeltis-californiae', 'nerodia-sipedon', 'storeria-dekayi', 'pituophis-catenifer', 'crotalus-horridus', 'natrix-natrix', 'crotalus-horridus', 'lampropeltis-californiae', 'haldea-striatula', 'storeria-dekayi', 'pantherophis-obsoletus', 'storeria-dekayi', 'lampropeltis-californiae', 'pantherophis-obsoletus', 'opheodrys-aestivus', 'pantherophis-obsoletus', 'pantherophis-alleghaniensis', 'coluber-constrictor', 'pantherophis-obsoletus', 'thamnophis-elegans', 'lampropeltis-triangulum', 'thamnophis-sirtalis', 'storeria-dekayi', 'rhinocheilus-lecontei', 'crotalus-viridis', 'storeria-dekayi', 'thamnophis-sirtalis', 'pituophis-catenifer', 'diadophis-punctatus', 'lampropeltis-triangulum', 'lampropeltis-californiae', 'pantherophis-obsoletus', 'crotalus-atrox', 'thamnophis-marcianus', 'lampropeltis-triangulum', 'lampropeltis-triangulum', 'thamnophis-proximus', 'crotalus-atrox', 'storeria-dekayi', 'storeria-dekayi', 'haldea-striatula', 'thamnophis-sirtalis', 'thamnophis-sirtalis', 'rhinocheilus-lecontei', 'thamnophis-sirtalis', 'crotalus-atrox', 'crotalus-atrox', 'storeria-dekayi', 'opheodrys-aestivus', 'storeria-dekayi', 'storeria-dekayi', 'pituophis-catenifer', 'nerodia-erythrogaster', 'diadophis-punctatus', 'agkistrodon-piscivorus', 'thamnophis-radix', 'crotalus-atrox', 'pantherophis-obsoletus', 'opheodrys-aestivus', 'thamnophis-sirtalis', 'thamnophis-elegans', 'thamnophis-sirtalis', 'pantherophis-spiloides', 'crotalus-atrox', 'nerodia-rhombifer', 'nerodia-sipedon', 'diadophis-punctatus', 'nerodia-erythrogaster', 'lampropeltis-triangulum', 'nerodia-sipedon', 'coluber-constrictor', 'pantherophis-spiloides', 'crotalus-atrox', 'thamnophis-marcianus', 'masticophis-flagellum', 'opheodrys-aestivus', 'pituophis-catenifer', 'nerodia-erythrogaster', 'pantherophis-obsoletus', 'storeria-dekayi', 'coluber-constrictor', 'natrix-natrix', 'storeria-dekayi', 'nerodia-rhombifer', 'storeria-dekayi', 'thamnophis-sirtalis', 'thamnophis-sirtalis', 'crotalus-atrox', 'thamnophis-proximus', 'agkistrodon-contortrix', 'haldea-striatula', 'lampropeltis-triangulum', 'diadophis-punctatus', 'opheodrys-aestivus', 'pantherophis-obsoletus', 'pantherophis-obsoletus', 'storeria-dekayi', 'thamnophis-proximus', 'crotalus-atrox', 'thamnophis-proximus', 'opheodrys-aestivus', 'coluber-constrictor', 'thamnophis-radix', 'thamnophis-proximus', 'storeria-dekayi', 'pantherophis-vulpinus', 'pantherophis-obsoletus', 'pantherophis-obsoletus', 'diadophis-punctatus', 'lampropeltis-triangulum', 'thamnophis-radix', 'pantherophis-obsoletus', 'crotalus-atrox', 'crotalus-atrox', 'crotalus-atrox', 'pantherophis-obsoletus', 'storeria-dekayi', 'pantherophis-obsoletus', 'lampropeltis-triangulum', 'opheodrys-aestivus', 'pantherophis-obsoletus', 'nerodia-sipedon', 'pantherophis-obsoletus', 'crotalus-scutulatus', 'nerodia-rhombifer', 'crotalus-horridus', 'crotalus-atrox', 'crotalus-atrox', 'storeria-dekayi', 'crotalus-atrox', 'pantherophis-obsoletus', 'storeria-dekayi', 'thamnophis-sirtalis', 'crotalus-atrox', 'crotalus-atrox', 'thamnophis-sirtalis', 'nerodia-sipedon', 'agkistrodon-contortrix', 'crotalus-atrox', 'pantherophis-obsoletus', 'storeria-dekayi', 'thamnophis-sirtalis', 'lampropeltis-californiae', 'haldea-striatula', 'pantherophis-obsoletus', 'opheodrys-aestivus', 'thamnophis-sirtalis', 'crotalus-atrox', 'nerodia-sipedon', 'lampropeltis-californiae', 'pantherophis-alleghaniensis', 'nerodia-sipedon', 'pantherophis-alleghaniensis', 'crotalus-atrox', 'haldea-striatula', 'lampropeltis-triangulum', 'storeria-dekayi', 'agkistrodon-contortrix', 'storeria-dekayi', 'agkistrodon-contortrix', 'storeria-dekayi', 'nerodia-sipedon', 'diadophis-punctatus', 'diadophis-punctatus', 'agkistrodon-contortrix', 'agkistrodon-contortrix', 'thamnophis-sirtalis', 'pantherophis-obsoletus', 'nerodia-erythrogaster', 'thamnophis-radix', 'pantherophis-obsoletus', 'thamnophis-proximus', 'pituophis-catenifer', 'agkistrodon-contortrix', 'thamnophis-proximus', 'pantherophis-obsoletus', 'pantherophis-alleghaniensis', 'thamnophis-sirtalis', 'thamnophis-sirtalis', 'nerodia-sipedon', 'storeria-dekayi', 'thamnophis-sirtalis', 'crotalus-atrox', 'opheodrys-aestivus', 'pantherophis-obsoletus', 'agkistrodon-contortrix', 'storeria-dekayi', 'coluber-constrictor', 'pantherophis-obsoletus', 'crotalus-atrox', 'crotalus-ruber', 'opheodrys-aestivus', 'crotalus-atrox', 'storeria-dekayi', 'pantherophis-guttatus', 'agkistrodon-piscivorus', 'pantherophis-alleghaniensis', 'storeria-dekayi', 'crotalus-ruber', 'crotalus-atrox', 'crotalus-atrox', 'storeria-dekayi', 'haldea-striatula', 'nerodia-rhombifer', 'nerodia-sipedon', 'pantherophis-alleghaniensis', 'lampropeltis-californiae', 'thamnophis-marcianus', 'thamnophis-proximus', 'agkistrodon-piscivorus', 'agkistrodon-contortrix', 'storeria-dekayi', 'haldea-striatula', 'crotalus-atrox', 'nerodia-sipedon', 'thamnophis-proximus', 'opheodrys-aestivus', 'storeria-dekayi', 'pantherophis-obsoletus', 'thamnophis-sirtalis', 'nerodia-erythrogaster', 'crotalus-scutulatus', 'pituophis-catenifer', 'thamnophis-elegans', 'storeria-dekayi', 'storeria-dekayi', 'nerodia-erythrogaster', 'storeria-dekayi', 'thamnophis-elegans', 'thamnophis-sirtalis', 'pantherophis-obsoletus', 'thamnophis-radix', 'thamnophis-sirtalis', 'opheodrys-aestivus', 'opheodrys-aestivus', 'storeria-dekayi', 'thamnophis-sirtalis', 'crotalus-atrox', 'coluber-constrictor', 'pantherophis-obsoletus', 'pantherophis-obsoletus', 'lampropeltis-californiae', 'lampropeltis-californiae', 'storeria-dekayi', 'storeria-dekayi', 'pantherophis-obsoletus', 'lampropeltis-triangulum', 'storeria-dekayi', 'thamnophis-radix', 'storeria-dekayi', 'thamnophis-sirtalis', 'lampropeltis-triangulum', 'heterodon-platirhinos', 'lampropeltis-triangulum', 'pituophis-catenifer', 'coluber-constrictor', 'pantherophis-spiloides', 'lampropeltis-triangulum', 'agkistrodon-piscivorus', 'thamnophis-sirtalis', 'pantherophis-spiloides', 'lampropeltis-triangulum', 'thamnophis-sirtalis', 'pantherophis-alleghaniensis', 'lampropeltis-californiae', 'storeria-dekayi', 'nerodia-sipedon', 'crotalus-atrox', 'storeria-dekayi', 'thamnophis-proximus', 'haldea-striatula', 'pantherophis-obsoletus', 'rhinocheilus-lecontei', 'storeria-dekayi', 'storeria-dekayi', 'nerodia-erythrogaster', 'rhinocheilus-lecontei', 'storeria-dekayi', 'thamnophis-elegans', 'heterodon-platirhinos', 'natrix-natrix', 'coluber-constrictor', 'lampropeltis-californiae', 'nerodia-rhombifer', 'storeria-dekayi', 'lampropeltis-triangulum', 'pantherophis-obsoletus', 'crotalus-atrox', 'crotalus-atrox', 'crotalus-atrox', 'thamnophis-elegans', 'pantherophis-obsoletus', 'storeria-dekayi', 'diadophis-punctatus', 'crotalus-atrox', 'crotalus-horridus', 'thamnophis-radix', 'pantherophis-obsoletus', 'crotalus-atrox', 'pantherophis-obsoletus', 'agkistrodon-piscivorus', 'pantherophis-spiloides', 'diadophis-punctatus', 'pantherophis-obsoletus', 'pantherophis-obsoletus', 'nerodia-sipedon', 'nerodia-sipedon', 'pantherophis-obsoletus', 'storeria-dekayi', 'lampropeltis-californiae', 'storeria-occipitomaculata', 'storeria-dekayi', 'crotalus-atrox', 'crotalus-atrox', 'crotalus-scutulatus', 'nerodia-sipedon', 'lampropeltis-triangulum', 'storeria-dekayi', 'storeria-dekayi', 'haldea-striatula', 'thamnophis-radix', 'nerodia-erythrogaster', 'haldea-striatula', 'lampropeltis-triangulum', 'nerodia-erythrogaster', 'thamnophis-sirtalis', 'diadophis-punctatus', 'storeria-dekayi', 'nerodia-sipedon', 'pantherophis-obsoletus', 'storeria-dekayi', 'lampropeltis-triangulum', 'diadophis-punctatus', 'nerodia-erythrogaster', 'thamnophis-proximus', 'haldea-striatula', 'storeria-dekayi', 'lampropeltis-californiae', 'thamnophis-sirtalis', 'haldea-striatula', 'thamnophis-sirtalis', 'lampropeltis-californiae', 'thamnophis-radix', 'diadophis-punctatus', 'agkistrodon-contortrix', 'crotalus-viridis', 'storeria-dekayi', 'nerodia-sipedon', 'thamnophis-sirtalis', 'thamnophis-proximus', 'agkistrodon-contortrix', 'thamnophis-sirtalis', 'coluber-constrictor', 'storeria-dekayi', 'thamnophis-proximus', 'thamnophis-proximus', 'lampropeltis-triangulum', 'thamnophis-radix', 'pantherophis-obsoletus', 'pantherophis-obsoletus', 'nerodia-rhombifer', 'haldea-striatula', 'pantherophis-obsoletus', 'pantherophis-obsoletus', 'lampropeltis-triangulum', 'agkistrodon-contortrix', 'thamnophis-proximus', 'nerodia-rhombifer', 'nerodia-sipedon', 'pantherophis-alleghaniensis', 'coluber-constrictor', 'lampropeltis-californiae', 'storeria-dekayi', 'haldea-striatula', 'crotalus-atrox', 'storeria-dekayi', 'storeria-dekayi', 'thamnophis-marcianus', 'storeria-dekayi', 'coluber-constrictor', 'pantherophis-obsoletus', 'thamnophis-sirtalis', 'agkistrodon-contortrix', 'lampropeltis-triangulum', 'pantherophis-obsoletus', 'diadophis-punctatus', 'storeria-dekayi', 'heterodon-platirhinos', 'thamnophis-sirtalis', 'agkistrodon-contortrix', 'storeria-dekayi', 'nerodia-sipedon', 'storeria-dekayi', 'haldea-striatula', 'pantherophis-guttatus', 'pantherophis-obsoletus', 'lampropeltis-triangulum', 'haldea-striatula', 'pituophis-catenifer', 'crotalus-atrox', 'nerodia-sipedon', 'pantherophis-obsoletus', 'coluber-constrictor', 'thamnophis-proximus', 'storeria-occipitomaculata', 'pantherophis-obsoletus', 'lampropeltis-triangulum', 'agkistrodon-piscivorus', 'storeria-dekayi', 'storeria-dekayi', 'masticophis-flagellum', 'storeria-dekayi', 'nerodia-sipedon', 'pantherophis-obsoletus', 'coluber-constrictor', 'thamnophis-proximus', 'agkistrodon-contortrix', 'haldea-striatula', 'lampropeltis-californiae', 'storeria-dekayi', 'agkistrodon-contortrix', 'pantherophis-obsoletus', 'opheodrys-aestivus', 'haldea-striatula', 'agkistrodon-contortrix', 'opheodrys-aestivus', 'crotalus-atrox', 'haldea-striatula', 'storeria-dekayi', 'lampropeltis-triangulum', 'opheodrys-aestivus', 'thamnophis-proximus', 'crotalus-viridis', 'crotalus-atrox', 'pantherophis-obsoletus', 'lampropeltis-californiae', 'rhinocheilus-lecontei', 'thamnophis-sirtalis', 'rhinocheilus-lecontei', 'lampropeltis-californiae', 'agkistrodon-piscivorus', 'storeria-dekayi', 'pantherophis-obsoletus', 'thamnophis-sirtalis', 'diadophis-punctatus', 'thamnophis-proximus', 'diadophis-punctatus', 'lampropeltis-californiae', 'thamnophis-radix', 'crotalus-scutulatus', 'lampropeltis-triangulum', 'storeria-dekayi', 'opheodrys-aestivus', 'storeria-occipitomaculata', 'pantherophis-alleghaniensis', 'thamnophis-marcianus', 'thamnophis-sirtalis', 'lampropeltis-californiae', 'thamnophis-proximus', 'natrix-natrix', 'storeria-dekayi', 'pantherophis-obsoletus', 'haldea-striatula', 'lampropeltis-californiae', 'pantherophis-obsoletus', 'crotalus-atrox', 'crotalus-atrox', 'storeria-dekayi', 'storeria-dekayi', 'storeria-dekayi', 'diadophis-punctatus', 'storeria-dekayi', 'storeria-dekayi', 'opheodrys-aestivus', 'pantherophis-alleghaniensis', 'pantherophis-alleghaniensis', 'diadophis-punctatus', 'crotalus-atrox', 'pantherophis-obsoletus', 'pantherophis-spiloides', 'diadophis-punctatus', 'thamnophis-radix', 'storeria-dekayi', 'thamnophis-radix', 'storeria-dekayi', 'coluber-constrictor', 'pantherophis-obsoletus', 'agkistrodon-piscivorus', 'nerodia-sipedon', 'thamnophis-radix', 'heterodon-platirhinos', 'pantherophis-obsoletus', 'lampropeltis-triangulum', 'diadophis-punctatus', 'diadophis-punctatus', 'storeria-dekayi', 'coluber-constrictor', 'nerodia-erythrogaster', 'coluber-constrictor', 'pantherophis-obsoletus', 'crotalus-viridis', 'storeria-occipitomaculata', 'agkistrodon-contortrix', 'nerodia-sipedon', 'diadophis-punctatus', 'pituophis-catenifer', 'masticophis-flagellum', 'crotalus-atrox', 'lampropeltis-triangulum', 'agkistrodon-contortrix', 'crotalus-atrox', 'thamnophis-radix', 'agkistrodon-contortrix', 'crotalus-atrox', 'rhinocheilus-lecontei', 'thamnophis-sirtalis', 'thamnophis-sirtalis', 'crotalus-atrox', 'coluber-constrictor', 'pantherophis-obsoletus', 'opheodrys-aestivus', 'heterodon-platirhinos', 'storeria-dekayi', 'pantherophis-obsoletus', 'thamnophis-proximus', 'storeria-dekayi', 'haldea-striatula', 'lampropeltis-triangulum', 'storeria-dekayi', 'thamnophis-marcianus', 'masticophis-flagellum', 'thamnophis-radix', 'agkistrodon-piscivorus', 'coluber-constrictor', 'storeria-dekayi', 'crotalus-scutulatus', 'lampropeltis-triangulum', 'storeria-dekayi', 'haldea-striatula', 'coluber-constrictor', 'thamnophis-sirtalis', 'storeria-dekayi', 'thamnophis-proximus', 'pantherophis-alleghaniensis', 'opheodrys-aestivus', 'thamnophis-proximus', 'pituophis-catenifer', 'storeria-dekayi', 'opheodrys-aestivus', 'opheodrys-aestivus', 'lampropeltis-triangulum', 'thamnophis-marcianus', 'nerodia-sipedon', 'agkistrodon-contortrix', 'agkistrodon-contortrix', 'diadophis-punctatus', 'pantherophis-obsoletus', 'natrix-natrix', 'thamnophis-radix', 'thamnophis-sirtalis', 'pantherophis-obsoletus', 'crotalus-horridus', 'agkistrodon-contortrix', 'thamnophis-sirtalis', 'pantherophis-obsoletus', 'nerodia-fasciata', 'pantherophis-obsoletus', 'agkistrodon-contortrix', 'nerodia-sipedon', 'pantherophis-obsoletus', 'coluber-constrictor', 'haldea-striatula', 'pantherophis-obsoletus', 'storeria-dekayi', 'pituophis-catenifer', 'coluber-constrictor', 'nerodia-sipedon', 'haldea-striatula', 'crotalus-atrox', 'thamnophis-marcianus', 'storeria-dekayi', 'thamnophis-radix', 'pantherophis-obsoletus', 'storeria-occipitomaculata', 'pantherophis-obsoletus', 'storeria-dekayi', 'thamnophis-sirtalis', 'storeria-dekayi', 'diadophis-punctatus', 'storeria-dekayi', 'thamnophis-marcianus', 'storeria-dekayi', 'storeria-occipitomaculata', 'crotalus-viridis', 'thamnophis-sirtalis', 'crotalus-atrox', 'agkistrodon-contortrix', 'storeria-dekayi', 'lampropeltis-californiae', 'crotalus-atrox', 'crotalus-scutulatus', 'lampropeltis-californiae', 'thamnophis-sirtalis', 'crotalus-horridus', 'lampropeltis-triangulum', 'crotalus-atrox', 'pantherophis-obsoletus', 'lampropeltis-californiae', 'thamnophis-proximus', 'thamnophis-sirtalis', 'crotalus-atrox', 'storeria-dekayi', 'lampropeltis-californiae', 'crotalus-atrox', 'lampropeltis-triangulum', 'thamnophis-proximus', 'agkistrodon-contortrix', 'crotalus-atrox', 'crotalus-atrox', 'crotalus-horridus', 'diadophis-punctatus', 'thamnophis-sirtalis', 'crotalus-atrox', 'agkistrodon-piscivorus', 'agkistrodon-contortrix', 'agkistrodon-piscivorus', 'agkistrodon-piscivorus', 'coluber-constrictor', 'storeria-dekayi', 'pantherophis-alleghaniensis', 'storeria-dekayi', 'opheodrys-aestivus', 'storeria-dekayi', 'storeria-dekayi', 'nerodia-rhombifer', 'pantherophis-obsoletus', 'crotalus-atrox', 'pantherophis-obsoletus', 'opheodrys-aestivus', 'thamnophis-sirtalis', 'storeria-dekayi', 'coluber-constrictor', 'pantherophis-obsoletus', 'thamnophis-sirtalis', 'storeria-dekayi', 'nerodia-sipedon', 'storeria-occipitomaculata', 'crotalus-atrox', 'lampropeltis-californiae', 'thamnophis-proximus', 'nerodia-sipedon', 'natrix-natrix', 'pituophis-catenifer', 'pantherophis-vulpinus', 'thamnophis-sirtalis', 'agkistrodon-contortrix', 'pantherophis-obsoletus', 'pituophis-catenifer', 'storeria-dekayi', 'opheodrys-aestivus', 'thamnophis-sirtalis', 'lampropeltis-californiae', 'thamnophis-proximus', 'crotalus-viridis', 'thamnophis-sirtalis', 'thamnophis-radix', 'pantherophis-alleghaniensis', 'haldea-striatula', 'storeria-occipitomaculata', 'thamnophis-sirtalis', 'storeria-dekayi', 'opheodrys-aestivus', 'coluber-constrictor', 'storeria-occipitomaculata', 'coluber-constrictor', 'diadophis-punctatus', 'haldea-striatula', 'storeria-occipitomaculata', 'crotalus-viridis', 'pantherophis-obsoletus', 'pantherophis-obsoletus', 'thamnophis-sirtalis', 'pantherophis-obsoletus', 'diadophis-punctatus', 'rhinocheilus-lecontei', 'agkistrodon-piscivorus', 'lampropeltis-californiae', 'pantherophis-obsoletus', 'storeria-dekayi', 'crotalus-atrox', 'nerodia-erythrogaster', 'storeria-dekayi', 'storeria-dekayi', 'pantherophis-obsoletus', 'crotalus-atrox', 'pantherophis-obsoletus', 'pantherophis-obsoletus', 'thamnophis-sirtalis', 'crotalus-scutulatus', 'pantherophis-obsoletus', 'agkistrodon-contortrix', 'thamnophis-sirtalis', 'coluber-constrictor', 'storeria-dekayi', 'natrix-natrix', 'crotalus-atrox', 'nerodia-erythrogaster', 'storeria-dekayi', 'crotalus-horridus', 'crotalus-atrox', 'coluber-constrictor', 'opheodrys-aestivus', 'crotalus-atrox', 'pantherophis-alleghaniensis', 'thamnophis-radix', 'pituophis-catenifer', 'agkistrodon-contortrix', 'storeria-dekayi', 'opheodrys-aestivus', 'lampropeltis-californiae', 'masticophis-flagellum', 'diadophis-punctatus', 'thamnophis-marcianus', 'rhinocheilus-lecontei', 'storeria-dekayi', 'nerodia-sipedon', 'lampropeltis-triangulum', 'thamnophis-sirtalis', 'lampropeltis-triangulum', 'diadophis-punctatus', 'agkistrodon-contortrix', 'thamnophis-sirtalis', 'coluber-constrictor', 'agkistrodon-contortrix', 'storeria-occipitomaculata', 'pantherophis-obsoletus', 'thamnophis-marcianus', 'agkistrodon-contortrix', 'crotalus-atrox', 'pituophis-catenifer', 'storeria-dekayi', 'lampropeltis-californiae', 'thamnophis-radix', 'crotalus-atrox', 'diadophis-punctatus', 'storeria-dekayi', 'thamnophis-proximus', 'diadophis-punctatus', 'agkistrodon-piscivorus', 'lampropeltis-triangulum', 'storeria-dekayi', 'crotalus-atrox', 'pantherophis-obsoletus', 'crotalus-horridus', 'thamnophis-proximus', 'crotalus-scutulatus', 'storeria-dekayi', 'storeria-dekayi', 'storeria-dekayi', 'diadophis-punctatus', 'crotalus-atrox', 'masticophis-flagellum', 'pantherophis-obsoletus', 'coluber-constrictor', 'pantherophis-alleghaniensis', 'lampropeltis-californiae', 'crotalus-atrox', 'thamnophis-sirtalis', 'storeria-dekayi', 'storeria-occipitomaculata', 'crotalus-atrox', 'pantherophis-alleghaniensis', 'pantherophis-obsoletus', 'thamnophis-marcianus', 'crotalus-horridus', 'lampropeltis-californiae', 'thamnophis-sirtalis', 'nerodia-sipedon', 'thamnophis-proximus', 'storeria-dekayi', 'agkistrodon-piscivorus', 'storeria-dekayi', 'nerodia-sipedon', 'haldea-striatula', 'lampropeltis-californiae', 'agkistrodon-piscivorus', 'pantherophis-obsoletus', 'storeria-dekayi', 'storeria-occipitomaculata', 'nerodia-sipedon', 'storeria-dekayi', 'pantherophis-alleghaniensis', 'lampropeltis-triangulum', 'thamnophis-sirtalis', 'nerodia-sipedon', 'storeria-dekayi', 'diadophis-punctatus', 'coluber-constrictor', 'lampropeltis-triangulum', 'pantherophis-emoryi', 'lampropeltis-triangulum', 'thamnophis-sirtalis', 'thamnophis-sirtalis', 'pantherophis-obsoletus', 'storeria-dekayi', 'crotalus-atrox', 'pantherophis-obsoletus', 'storeria-dekayi', 'nerodia-sipedon', 'crotalus-atrox', 'lampropeltis-triangulum', 'diadophis-punctatus', 'thamnophis-sirtalis', 'nerodia-erythrogaster', 'storeria-dekayi', 'storeria-dekayi', 'storeria-dekayi', 'pantherophis-obsoletus', 'pantherophis-obsoletus', 'pantherophis-alleghaniensis', 'crotalus-atrox', 'storeria-occipitomaculata', 'storeria-dekayi', 'thamnophis-radix', 'storeria-dekayi', 'thamnophis-sirtalis', 'diadophis-punctatus', 'agkistrodon-contortrix', 'storeria-occipitomaculata', 'storeria-dekayi', 'nerodia-rhombifer', 'pantherophis-spiloides', 'pantherophis-alleghaniensis', 'pantherophis-obsoletus', 'agkistrodon-piscivorus', 'nerodia-sipedon', 'crotalus-atrox', 'agkistrodon-contortrix', 'diadophis-punctatus', 'lampropeltis-triangulum', 'lampropeltis-triangulum', 'diadophis-punctatus', 'pantherophis-alleghaniensis', 'storeria-dekayi', 'lampropeltis-triangulum', 'pantherophis-obsoletus', 'haldea-striatula', 'natrix-natrix', 'crotalus-atrox', 'pantherophis-obsoletus', 'opheodrys-aestivus', 'crotalus-atrox', 'crotalus-scutulatus', 'crotalus-atrox', 'opheodrys-aestivus', 'storeria-dekayi', 'lampropeltis-triangulum', 'pantherophis-obsoletus', 'storeria-dekayi', 'storeria-dekayi', 'nerodia-rhombifer', 'crotalus-atrox', 'pantherophis-obsoletus', 'crotalus-scutulatus', 'pantherophis-alleghaniensis', 'storeria-dekayi', 'pantherophis-alleghaniensis', 'agkistrodon-contortrix', 'agkistrodon-piscivorus', 'storeria-dekayi', 'storeria-dekayi', 'storeria-dekayi', 'thamnophis-sirtalis', 'nerodia-erythrogaster', 'pantherophis-emoryi', 'crotalus-atrox', 'diadophis-punctatus', 'storeria-dekayi', 'agkistrodon-contortrix', 'storeria-dekayi', 'opheodrys-aestivus', 'thamnophis-radix', 'crotalus-atrox', 'crotalus-atrox', 'nerodia-sipedon', 'pantherophis-spiloides', 'thamnophis-sirtalis', 'opheodrys-aestivus', 'storeria-dekayi', 'pantherophis-obsoletus', 'crotalus-atrox', 'lampropeltis-californiae', 'pantherophis-alleghaniensis', 'crotalus-atrox', 'pantherophis-obsoletus', 'storeria-dekayi', 'crotalus-atrox', 'diadophis-punctatus', 'pantherophis-obsoletus', 'lampropeltis-californiae', 'rhinocheilus-lecontei', 'storeria-dekayi', 'pantherophis-obsoletus', 'pantherophis-obsoletus', 'thamnophis-radix', 'crotalus-atrox', 'opheodrys-aestivus', 'nerodia-sipedon', 'thamnophis-sirtalis', 'pituophis-catenifer', 'nerodia-erythrogaster', 'storeria-dekayi', 'thamnophis-sirtalis', 'lampropeltis-californiae', 'storeria-dekayi', 'pantherophis-obsoletus', 'diadophis-punctatus', 'diadophis-punctatus', 'agkistrodon-contortrix', 'haldea-striatula', 'pantherophis-obsoletus', 'storeria-occipitomaculata', 'crotalus-atrox', 'pantherophis-alleghaniensis', 'nerodia-sipedon', 'diadophis-punctatus', 'nerodia-sipedon', 'agkistrodon-contortrix', 'lampropeltis-triangulum', 'lampropeltis-triangulum', 'agkistrodon-contortrix', 'pantherophis-obsoletus', 'pantherophis-vulpinus', 'pantherophis-obsoletus', 'pantherophis-obsoletus']\n"
          ],
          "name": "stdout"
        }
      ]
    },
    {
      "cell_type": "code",
      "metadata": {
        "id": "7Pj2h20S0cZe"
      },
      "source": [
        "test['breed']=result"
      ],
      "execution_count": 151,
      "outputs": []
    },
    {
      "cell_type": "code",
      "metadata": {
        "id": "iIKlMel60rl0"
      },
      "source": [
        "#test=test.drop(['image'],axis=1)"
      ],
      "execution_count": 153,
      "outputs": []
    },
    {
      "cell_type": "code",
      "metadata": {
        "id": "N1F4KGnH07El",
        "outputId": "d6a31435-81e2-481d-bf17-f833b1d15a2f",
        "colab": {
          "base_uri": "https://localhost:8080/",
          "height": 206
        }
      },
      "source": [
        "filename='/content/drive/MyDrive/Snake detection/submission_100.csv'\r\n",
        "test.to_csv(filename,index=False)\r\n",
        "test.head()"
      ],
      "execution_count": 154,
      "outputs": [
        {
          "output_type": "execute_result",
          "data": {
            "text/html": [
              "<div>\n",
              "<style scoped>\n",
              "    .dataframe tbody tr th:only-of-type {\n",
              "        vertical-align: middle;\n",
              "    }\n",
              "\n",
              "    .dataframe tbody tr th {\n",
              "        vertical-align: top;\n",
              "    }\n",
              "\n",
              "    .dataframe thead th {\n",
              "        text-align: right;\n",
              "    }\n",
              "</style>\n",
              "<table border=\"1\" class=\"dataframe\">\n",
              "  <thead>\n",
              "    <tr style=\"text-align: right;\">\n",
              "      <th></th>\n",
              "      <th>image_id</th>\n",
              "      <th>breed</th>\n",
              "    </tr>\n",
              "  </thead>\n",
              "  <tbody>\n",
              "    <tr>\n",
              "      <th>0</th>\n",
              "      <td>7ede553357</td>\n",
              "      <td>agkistrodon-contortrix</td>\n",
              "    </tr>\n",
              "    <tr>\n",
              "      <th>1</th>\n",
              "      <td>3500b219e4</td>\n",
              "      <td>agkistrodon-piscivorus</td>\n",
              "    </tr>\n",
              "    <tr>\n",
              "      <th>2</th>\n",
              "      <td>d43a78d6d9</td>\n",
              "      <td>pantherophis-obsoletus</td>\n",
              "    </tr>\n",
              "    <tr>\n",
              "      <th>3</th>\n",
              "      <td>1f36f26994</td>\n",
              "      <td>storeria-dekayi</td>\n",
              "    </tr>\n",
              "    <tr>\n",
              "      <th>4</th>\n",
              "      <td>8cb85fc58e</td>\n",
              "      <td>natrix-natrix</td>\n",
              "    </tr>\n",
              "  </tbody>\n",
              "</table>\n",
              "</div>"
            ],
            "text/plain": [
              "     image_id                   breed\n",
              "0  7ede553357  agkistrodon-contortrix\n",
              "1  3500b219e4  agkistrodon-piscivorus\n",
              "2  d43a78d6d9  pantherophis-obsoletus\n",
              "3  1f36f26994         storeria-dekayi\n",
              "4  8cb85fc58e           natrix-natrix"
            ]
          },
          "metadata": {
            "tags": []
          },
          "execution_count": 154
        }
      ]
    }
  ]
}